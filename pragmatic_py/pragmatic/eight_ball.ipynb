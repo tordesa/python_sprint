{
 "cells": [
  {
   "cell_type": "code",
   "execution_count": 1,
   "metadata": {},
   "outputs": [],
   "source": [
    "import random"
   ]
  },
  {
   "cell_type": "code",
   "execution_count": 3,
   "id": "5bc24626",
   "metadata": {},
   "outputs": [
    {
     "name": "stdout",
     "output_type": "stream",
     "text": [
      "\n"
     ]
    }
   ],
   "source": [
    "while True:\n",
    "    print()\n",
    "\n",
    "    userQuestion = input('Ask the Magic 8-Ball a question(press enter to to quit):')\n",
    "    if userQuestion == \"\":\n",
    "        break\n",
    "\n",
    "    randomAnswer = random.randrange(0, 8)\n",
    "\n",
    "    if randomAnswer == 0:\n",
    "        print('It is certain.')\n",
    "\n",
    "    elif randomAnswer == 1:\n",
    "        print('Absolutely!')\n",
    "\n",
    "\n",
    "    elif randomAnswer == 2:\n",
    "        print('You may rely on it.')\n",
    "\n",
    "    elif randomAnswer == 3:\n",
    "        print('Answer is foggy, ask again later.')\n",
    "\n",
    "    elif randomAnswer == 4:\n",
    "        print('Concentrate and ask again')\n",
    "\n",
    "    elif randomAnswer == 5:\n",
    "        print('Unsure at this point, try again')\n",
    "\n",
    "    elif randomAnswer == 6:\n",
    "        print('No way, dude!')\n",
    "\n",
    "    elif randomAnswer == 7:\n",
    "        print('No, no, no, no, no.')\n",
    "\n"
   ]
  },
  {
   "cell_type": "code",
   "execution_count": 13,
   "id": "6a83bf8c",
   "metadata": {},
   "outputs": [],
   "source": [
    "def seperateRuns():\n",
    "    print(' ***************************\\n \\\n",
    "*      I Am  One          *\\n \\\n",
    "*        with             *\\n \\\n",
    "*        the              *\\n \\\n",
    "*      C.O.D.E            *\\n \\\n",
    "***************************')\n"
   ]
  },
  {
   "cell_type": "code",
   "execution_count": 14,
   "id": "99f1b01c",
   "metadata": {},
   "outputs": [
    {
     "name": "stdout",
     "output_type": "stream",
     "text": [
      " ***************************\n",
      " *      I Am  One          *\n",
      " *        with             *\n",
      " *        the              *\n",
      " *      C.O.D.E            *\n",
      " ***************************\n"
     ]
    }
   ],
   "source": [
    "seperateRuns()"
   ]
  },
  {
   "cell_type": "code",
   "execution_count": 1,
   "id": "01e48106",
   "metadata": {},
   "outputs": [],
   "source": [
    "word = \"Hello\"\n"
   ]
  },
  {
   "cell_type": "code",
   "execution_count": 2,
   "id": "e0ab4a8d",
   "metadata": {},
   "outputs": [
    {
     "name": "stdout",
     "output_type": "stream",
     "text": [
      "H\n"
     ]
    }
   ],
   "source": [
    "print( word[0])"
   ]
  },
  {
   "cell_type": "code",
   "execution_count": 3,
   "id": "a03a2f7a",
   "metadata": {},
   "outputs": [
    {
     "data": {
      "text/plain": [
       "'e'"
      ]
     },
     "execution_count": 3,
     "metadata": {},
     "output_type": "execute_result"
    }
   ],
   "source": [
    "word[1]"
   ]
  },
  {
   "cell_type": "code",
   "execution_count": 4,
   "id": "999a8517",
   "metadata": {},
   "outputs": [
    {
     "name": "stdout",
     "output_type": "stream",
     "text": [
      "Hello there.\n"
     ]
    }
   ],
   "source": [
    "words = \"Hello there!\"\n",
    "print(words.replace(\"!\",\".\"))"
   ]
  },
  {
   "cell_type": "code",
   "execution_count": 5,
   "id": "5e7bc73d",
   "metadata": {},
   "outputs": [],
   "source": [
    "statement  =\"The agile dog jumped over the lazy fox\"\n"
   ]
  },
  {
   "cell_type": "code",
   "execution_count": 6,
   "id": "bf4ede26",
   "metadata": {},
   "outputs": [
    {
     "data": {
      "text/plain": [
       "21"
      ]
     },
     "execution_count": 6,
     "metadata": {},
     "output_type": "execute_result"
    }
   ],
   "source": [
    "statement.find(\"over\")"
   ]
  },
  {
   "cell_type": "code",
   "execution_count": 7,
   "id": "b6352e7e",
   "metadata": {},
   "outputs": [],
   "source": [
    "over = statement[statement.find(\"over\"):statement.find(\"over\")+4]"
   ]
  },
  {
   "cell_type": "code",
   "execution_count": 8,
   "id": "53e843ab",
   "metadata": {},
   "outputs": [
    {
     "data": {
      "text/plain": [
       "'over'"
      ]
     },
     "execution_count": 8,
     "metadata": {},
     "output_type": "execute_result"
    }
   ],
   "source": [
    "over"
   ]
  },
  {
   "cell_type": "code",
   "execution_count": 9,
   "id": "f1a60caa",
   "metadata": {},
   "outputs": [],
   "source": [
    "name = \"   John   \""
   ]
  },
  {
   "cell_type": "code",
   "execution_count": 11,
   "id": "12ac6093",
   "metadata": {},
   "outputs": [
    {
     "data": {
      "text/plain": [
       "'John'"
      ]
     },
     "execution_count": 11,
     "metadata": {},
     "output_type": "execute_result"
    }
   ],
   "source": [
    "name.strip()"
   ]
  },
  {
   "cell_type": "code",
   "execution_count": 13,
   "id": "cdb994be",
   "metadata": {},
   "outputs": [
    {
     "data": {
      "text/plain": [
       "['Thes', 'words', 'are', 'seperated', 'by', 'spaces']"
      ]
     },
     "execution_count": 13,
     "metadata": {},
     "output_type": "execute_result"
    }
   ],
   "source": [
    "s = \" These words are seperated by spaces \".strip()\n",
    "s.split(\" \")"
   ]
  },
  {
   "cell_type": "code",
   "execution_count": null,
   "id": "b4e58fd5",
   "metadata": {},
   "outputs": [],
   "source": []
  }
 ],
 "metadata": {
  "kernelspec": {
   "display_name": "Python 3",
   "language": "python",
   "name": "python3"
  },
  "language_info": {
   "codemirror_mode": {
    "name": "ipython",
    "version": 3
   },
   "file_extension": ".py",
   "mimetype": "text/x-python",
   "name": "python",
   "nbconvert_exporter": "python",
   "pygments_lexer": "ipython3",
   "version": "3.8.10"
  },
  "vscode": {
   "interpreter": {
    "hash": "916dbcbb3f70747c44a77c7bcd40155683ae19c65e1c03b4aa3499c5328201f1"
   }
  }
 },
 "nbformat": 4,
 "nbformat_minor": 5
}
