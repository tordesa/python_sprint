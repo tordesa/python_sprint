{
 "cells": [
  {
   "cell_type": "code",
   "execution_count": 1,
   "metadata": {},
   "outputs": [
    {
     "name": "stdout",
     "output_type": "stream",
     "text": [
      "4\n"
     ]
    }
   ],
   "source": [
    "from adder import add\n",
    "value = add(2,2)\n",
    "print(value)\n"
   ]
  },
  {
   "cell_type": "code",
   "execution_count": 1,
   "metadata": {},
   "outputs": [],
   "source": [
    "import sqlite3"
   ]
  },
  {
   "cell_type": "code",
   "execution_count": 3,
   "metadata": {},
   "outputs": [],
   "source": [
    "with sqlite3.connect(\"test.db\") as connection:\n",
    "    cursor = connection.cursor()\n",
    "    query = \"SELECT datetime('now', 'localtime');\"\n",
    "    time = cursor.execute(query).fetchone()[0]"
   ]
  },
  {
   "cell_type": "code",
   "execution_count": 4,
   "metadata": {},
   "outputs": [
    {
     "data": {
      "text/plain": [
       "'2023-01-02 19:32:14'"
      ]
     },
     "execution_count": 4,
     "metadata": {},
     "output_type": "execute_result"
    }
   ],
   "source": [
    "time"
   ]
  },
  {
   "cell_type": "code",
   "execution_count": 5,
   "metadata": {},
   "outputs": [],
   "source": [
    "with sqlite3.connect(\"test.db\") as connection:\n",
    "    cursor = connection.cursor()\n",
    "    cursor.execute(\"\"\"\n",
    "        CREATE TABLE People(FirstName TEXT, LastName TEXT, Age INT);\n",
    "    \"\"\")\n",
    "    cursor.execute(\"\"\"\n",
    "        INSERT INTO People  (FirstName, LastName , Age) VALUES('RON','OBVIOUS','42');\n",
    "    \"\"\")"
   ]
  },
  {
   "cell_type": "code",
   "execution_count": 6,
   "metadata": {},
   "outputs": [],
   "source": [
    "people_values = (\n",
    "    ('Luigi', 'Vercotti', 43),\n",
    "    ('Yadira', 'Shany', 4),\n",
    "    ('Justice','Chyna',32),\n",
    "    ('Legros','Gerry',44)\n",
    ")"
   ]
  },
  {
   "cell_type": "code",
   "execution_count": 7,
   "metadata": {},
   "outputs": [
    {
     "data": {
      "text/plain": [
       "<sqlite3.Cursor at 0x7ff162534490>"
      ]
     },
     "execution_count": 7,
     "metadata": {},
     "output_type": "execute_result"
    }
   ],
   "source": [
    "cursor.executemany(\"INSERT INTO People VALUES(?,?,?)\", people_values)"
   ]
  },
  {
   "cell_type": "code",
   "execution_count": 9,
   "metadata": {},
   "outputs": [
    {
     "data": {
      "text/plain": [
       "<sqlite3.Cursor at 0x7ff162534490>"
      ]
     },
     "execution_count": 9,
     "metadata": {},
     "output_type": "execute_result"
    }
   ],
   "source": [
    "cursor.executescript(\"\"\"\n",
    "    INSERT INTO People VALUES('Shana','Feil',23),\n",
    "    ('Thiel','Kilback', 23),\n",
    "    ('London','Fritsch', 45),\n",
    "    ('Kiana','Mitchel', 33);\n",
    "\"\"\")"
   ]
  },
  {
   "cell_type": "code",
   "execution_count": 8,
   "metadata": {},
   "outputs": [],
   "source": [
    "import sqlite3\n",
    "\n",
    "# Get person data from user\n",
    "first_name = input(\"Enter your first name:\")\n",
    "last_name = input(\"Enter your last name:\")\n",
    "age = int(input(\"Enter your age:\"))\n",
    "data = (first_name,last_name,age)\n",
    "\n",
    "# Execute insert statement for supplied person data\n",
    "with sqlite3.connect(\"test.db\") as connection:\n",
    "    cursor = connection.cursor()\n",
    "    cursor.execute(\n",
    "        f\"INSERT INTO people Values (?,?,?)\",data\n",
    "        );\n",
    "    "
   ]
  },
  {
   "cell_type": "code",
   "execution_count": 10,
   "metadata": {},
   "outputs": [
    {
     "data": {
      "text/plain": [
       "<sqlite3.Cursor at 0x7f069188e810>"
      ]
     },
     "execution_count": 10,
     "metadata": {},
     "output_type": "execute_result"
    }
   ],
   "source": [
    "cursor.execute(\n",
    "    \"UPDATE People SET Age=? WHERE FirstName=? AND LastName=?;\",\n",
    "    (45,'Luigi','Vercotti')\n",
    ")"
   ]
  },
  {
   "cell_type": "code",
   "execution_count": 11,
   "metadata": {},
   "outputs": [
    {
     "name": "stdout",
     "output_type": "stream",
     "text": [
      "('Luigi', 'Vercotti')\n",
      "('London', 'Fritsch')\n"
     ]
    }
   ],
   "source": [
    "cursor.execute(\n",
    "    \"SELECT FirstName, LastName from People where Age = 45;\"\n",
    ")\n",
    "\n",
    "for row in cursor.fetchall():\n",
    "    print(row)"
   ]
  },
  {
   "cell_type": "code",
   "execution_count": 23,
   "metadata": {},
   "outputs": [],
   "source": [
    "import sqlite3\n",
    "\n",
    "\n",
    "\n",
    "with sqlite3.connect('schedule.db') as connection:\n",
    "    cursor = connection.cursor()\n",
    "    cursor.execute(\n",
    "        \"\"\"CREATE TABLE Roster\n",
    "        (\n",
    "            Name TEXT,\n",
    "            Species TEXT,\n",
    "            IQ INT\n",
    "        );\n",
    "            \"\"\"\n",
    "    )\n",
    "    data = (\n",
    "    (\"Jean-Baptiste Zorg\", \"Human\", 122),\n",
    "    (\"Korben Dallas\", \"Meat Popsicle\", 100),\n",
    "    (\"Ak'not\", \"Mangalore\", -5)\n",
    "    )\n",
    "\n",
    "    cursor.executemany(\"INSERT INTO Roster VALUES(?,?,?)\", data)"
   ]
  },
  {
   "cell_type": "code",
   "execution_count": 25,
   "metadata": {},
   "outputs": [
    {
     "data": {
      "text/plain": [
       "<sqlite3.Cursor at 0x7f069180d9d0>"
      ]
     },
     "execution_count": 25,
     "metadata": {},
     "output_type": "execute_result"
    }
   ],
   "source": [
    "cursor.execute(\n",
    "    \"\"\"\n",
    "    UPDATE Roster SET Species = 'Human' where Name = 'Korben Dallas';\n",
    "    \"\"\"\n",
    ")"
   ]
  },
  {
   "cell_type": "code",
   "execution_count": 26,
   "metadata": {},
   "outputs": [
    {
     "name": "stdout",
     "output_type": "stream",
     "text": [
      "('Jean-Baptiste Zorg', 122)\n",
      "('Korben Dallas', 100)\n"
     ]
    }
   ],
   "source": [
    "results = cursor.execute(\n",
    "    \"\"\"\n",
    "    SELECT Name, IQ FROM Roster where Species = 'Human';\n",
    "    \"\"\"\n",
    ")\n",
    "\n",
    "for row in results:\n",
    "    print(row)\n",
    "\n"
   ]
  },
  {
   "cell_type": "code",
   "execution_count": null,
   "metadata": {},
   "outputs": [],
   "source": []
  }
 ],
 "metadata": {
  "kernelspec": {
   "display_name": "Python 3",
   "language": "python",
   "name": "python3"
  },
  "language_info": {
   "codemirror_mode": {
    "name": "ipython",
    "version": 3
   },
   "file_extension": ".py",
   "mimetype": "text/x-python",
   "name": "python",
   "nbconvert_exporter": "python",
   "pygments_lexer": "ipython3",
   "version": "3.8.10 (default, Nov 14 2022, 12:59:47) \n[GCC 9.4.0]"
  },
  "orig_nbformat": 4,
  "vscode": {
   "interpreter": {
    "hash": "916dbcbb3f70747c44a77c7bcd40155683ae19c65e1c03b4aa3499c5328201f1"
   }
  }
 },
 "nbformat": 4,
 "nbformat_minor": 2
}
