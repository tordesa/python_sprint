{
 "cells": [
  {
   "cell_type": "code",
   "execution_count": 1,
   "metadata": {},
   "outputs": [
    {
     "name": "stdout",
     "output_type": "stream",
     "text": [
      "4\n"
     ]
    }
   ],
   "source": [
    "from adder import add\n",
    "value = add(2,2)\n",
    "print(value)\n"
   ]
  },
  {
   "cell_type": "code",
   "execution_count": 1,
   "metadata": {},
   "outputs": [],
   "source": [
    "import sqlite3"
   ]
  },
  {
   "cell_type": "code",
   "execution_count": 3,
   "metadata": {},
   "outputs": [],
   "source": [
    "with sqlite3.connect(\"test.db\") as connection:\n",
    "    cursor = connection.cursor()\n",
    "    query = \"SELECT datetime('now', 'localtime');\"\n",
    "    time = cursor.execute(query).fetchone()[0]"
   ]
  },
  {
   "cell_type": "code",
   "execution_count": 4,
   "metadata": {},
   "outputs": [
    {
     "data": {
      "text/plain": [
       "'2023-01-02 19:32:14'"
      ]
     },
     "execution_count": 4,
     "metadata": {},
     "output_type": "execute_result"
    }
   ],
   "source": [
    "time"
   ]
  },
  {
   "cell_type": "code",
   "execution_count": 5,
   "metadata": {},
   "outputs": [],
   "source": [
    "with sqlite3.connect(\"test.db\") as connection:\n",
    "    cursor = connection.cursor()\n",
    "    cursor.execute(\"\"\"\n",
    "        CREATE TABLE People(FirstName TEXT, LastName TEXT, Age INT);\n",
    "    \"\"\")\n",
    "    cursor.execute(\"\"\"\n",
    "        INSERT INTO People  (FirstName, LastName , Age) VALUES('RON','OBVIOUS','42');\n",
    "    \"\"\")"
   ]
  },
  {
   "cell_type": "code",
   "execution_count": 6,
   "metadata": {},
   "outputs": [],
   "source": [
    "people_values = (\n",
    "    ('Luigi', 'Vercotti', 43),\n",
    "    ('Yadira', 'Shany', 4),\n",
    "    ('Justice','Chyna',32),\n",
    "    ('Legros','Gerry',44)\n",
    ")"
   ]
  },
  {
   "cell_type": "code",
   "execution_count": 7,
   "metadata": {},
   "outputs": [
    {
     "data": {
      "text/plain": [
       "<sqlite3.Cursor at 0x7ff162534490>"
      ]
     },
     "execution_count": 7,
     "metadata": {},
     "output_type": "execute_result"
    }
   ],
   "source": [
    "cursor.executemany(\"INSERT INTO People VALUES(?,?,?)\", people_values)"
   ]
  },
  {
   "cell_type": "code",
   "execution_count": 9,
   "metadata": {},
   "outputs": [
    {
     "data": {
      "text/plain": [
       "<sqlite3.Cursor at 0x7ff162534490>"
      ]
     },
     "execution_count": 9,
     "metadata": {},
     "output_type": "execute_result"
    }
   ],
   "source": [
    "cursor.executescript(\"\"\"\n",
    "    INSERT INTO People VALUES('Shana','Feil',23),\n",
    "    ('Thiel','Kilback', 23),\n",
    "    ('London','Fritsch', 45),\n",
    "    ('Kiana','Mitchel', 33);\n",
    "\"\"\")"
   ]
  },
  {
   "cell_type": "code",
   "execution_count": 8,
   "metadata": {},
   "outputs": [],
   "source": [
    "import sqlite3\n",
    "\n",
    "# Get person data from user\n",
    "first_name = input(\"Enter your first name:\")\n",
    "last_name = input(\"Enter your last name:\")\n",
    "age = int(input(\"Enter your age:\"))\n",
    "data = (first_name,last_name,age)\n",
    "\n",
    "# Execute insert statement for supplied person data\n",
    "with sqlite3.connect(\"test.db\") as connection:\n",
    "    cursor = connection.cursor()\n",
    "    cursor.execute(\n",
    "        f\"INSERT INTO people Values (?,?,?)\",data\n",
    "        );\n",
    "    "
   ]
  },
  {
   "cell_type": "code",
   "execution_count": 10,
   "metadata": {},
   "outputs": [
    {
     "data": {
      "text/plain": [
       "<sqlite3.Cursor at 0x7f069188e810>"
      ]
     },
     "execution_count": 10,
     "metadata": {},
     "output_type": "execute_result"
    }
   ],
   "source": [
    "cursor.execute(\n",
    "    \"UPDATE People SET Age=? WHERE FirstName=? AND LastName=?;\",\n",
    "    (45,'Luigi','Vercotti')\n",
    ")"
   ]
  },
  {
   "cell_type": "code",
   "execution_count": 11,
   "metadata": {},
   "outputs": [
    {
     "name": "stdout",
     "output_type": "stream",
     "text": [
      "('Luigi', 'Vercotti')\n",
      "('London', 'Fritsch')\n"
     ]
    }
   ],
   "source": [
    "cursor.execute(\n",
    "    \"SELECT FirstName, LastName from People where Age = 45;\"\n",
    ")\n",
    "\n",
    "for row in cursor.fetchall():\n",
    "    print(row)"
   ]
  },
  {
   "cell_type": "code",
   "execution_count": 23,
   "metadata": {},
   "outputs": [],
   "source": [
    "import sqlite3\n",
    "\n",
    "\n",
    "\n",
    "with sqlite3.connect('schedule.db') as connection:\n",
    "    cursor = connection.cursor()\n",
    "    cursor.execute(\n",
    "        \"\"\"CREATE TABLE Roster\n",
    "        (\n",
    "            Name TEXT,\n",
    "            Species TEXT,\n",
    "            IQ INT\n",
    "        );\n",
    "            \"\"\"\n",
    "    )\n",
    "    data = (\n",
    "    (\"Jean-Baptiste Zorg\", \"Human\", 122),\n",
    "    (\"Korben Dallas\", \"Meat Popsicle\", 100),\n",
    "    (\"Ak'not\", \"Mangalore\", -5)\n",
    "    )\n",
    "\n",
    "    cursor.executemany(\"INSERT INTO Roster VALUES(?,?,?)\", data)"
   ]
  },
  {
   "cell_type": "code",
   "execution_count": 25,
   "metadata": {},
   "outputs": [
    {
     "data": {
      "text/plain": [
       "<sqlite3.Cursor at 0x7f069180d9d0>"
      ]
     },
     "execution_count": 25,
     "metadata": {},
     "output_type": "execute_result"
    }
   ],
   "source": [
    "cursor.execute(\n",
    "    \"\"\"\n",
    "    UPDATE Roster SET Species = 'Human' where Name = 'Korben Dallas';\n",
    "    \"\"\"\n",
    ")"
   ]
  },
  {
   "cell_type": "code",
   "execution_count": 26,
   "metadata": {},
   "outputs": [
    {
     "name": "stdout",
     "output_type": "stream",
     "text": [
      "('Jean-Baptiste Zorg', 122)\n",
      "('Korben Dallas', 100)\n"
     ]
    }
   ],
   "source": [
    "results = cursor.execute(\n",
    "    \"\"\"\n",
    "    SELECT Name, IQ FROM Roster where Species = 'Human';\n",
    "    \"\"\"\n",
    ")\n",
    "\n",
    "for row in results:\n",
    "    print(row)\n",
    "\n"
   ]
  },
  {
   "cell_type": "code",
   "execution_count": 7,
   "metadata": {},
   "outputs": [],
   "source": [
    "import sqlite3\n",
    "\n",
    "with sqlite3.connect('population.db') as pop:\n",
    "    cursor = pop.cursor()\n",
    "    cursor.executescript(\n",
    "        \"\"\"\n",
    "        DROP TABLE IF EXISTS population;\n",
    "        CREATE TABLE population(\n",
    "            Region TEXT,\n",
    "            Population INT\n",
    "        );\n",
    "        INSERT INTO population values\n",
    "        ('Central Africa', 330993),\n",
    "        ('Southeastern Africa', 743112),\n",
    "        ('Northtern Africa', 1037463),\n",
    "        ('Southern Africa', 743112),\n",
    "        ('Asia Pacific', 785468),\n",
    "        ('Middle East' , 687630),\n",
    "        ('Eastern Asia', 1362955),\n",
    "        ('South America', 593121),\n",
    "        ('Eastern Europe', 223427),\n",
    "        ('North America', 661157),\n",
    "        ('Western Europe', 387933),\n",
    "        ('Japan', 100562);\n",
    "        \"\"\"\n",
    "    )\n"
   ]
  },
  {
   "cell_type": "code",
   "execution_count": 21,
   "metadata": {},
   "outputs": [
    {
     "name": "stdout",
     "output_type": "stream",
     "text": [
      "('Central Africa', 330993)\n",
      "('Southeastern Africa', 743112)\n",
      "('Northtern Africa', 1037463)\n",
      "('Southern Africa', 743112)\n",
      "('Asia Pacific', 785468)\n",
      "('Middle East', 687630)\n",
      "('Eastern Asia', 1362955)\n",
      "('South America', 593121)\n",
      "('Eastern Europe', 223427)\n",
      "('North America', 661157)\n",
      "('Western Europe', 387933)\n",
      "('Japan', 100562)\n"
     ]
    }
   ],
   "source": [
    "rows = cursor.execute(\"\"\"\n",
    "    SELECT * from population;\n",
    "\"\"\")\n",
    "\n",
    "for row in  rows:\n",
    "    print(row)"
   ]
  },
  {
   "cell_type": "code",
   "execution_count": 19,
   "metadata": {},
   "outputs": [
    {
     "data": {
      "text/plain": [
       "[('Central Africa', 330993),\n",
       " ('Southeastern Africa', 743112),\n",
       " ('Northtern Africa', 1037463),\n",
       " ('Southern Africa', 743112),\n",
       " ('Asia Pacific', 785468),\n",
       " ('Middle East', 687630),\n",
       " ('Eastern Asia', 1362955),\n",
       " ('South America', 593121),\n",
       " ('Eastern Europe', 223427),\n",
       " ('North America', 661157),\n",
       " ('Western Europe', 387933),\n",
       " ('Japan', 100562)]"
      ]
     },
     "execution_count": 19,
     "metadata": {},
     "output_type": "execute_result"
    }
   ],
   "source": [
    "cursor.fetchall()\n"
   ]
  },
  {
   "cell_type": "code",
   "execution_count": 22,
   "metadata": {},
   "outputs": [
    {
     "data": {
      "text/plain": [
       "<sqlite3.Cursor at 0x7f5f14c9f500>"
      ]
     },
     "execution_count": 22,
     "metadata": {},
     "output_type": "execute_result"
    }
   ],
   "source": [
    "cursor.execute('Select Region, Population from population ORDER by REGION')"
   ]
  },
  {
   "cell_type": "code",
   "execution_count": 23,
   "metadata": {},
   "outputs": [
    {
     "data": {
      "text/plain": [
       "[('Asia Pacific', 785468),\n",
       " ('Central Africa', 330993),\n",
       " ('Eastern Asia', 1362955),\n",
       " ('Eastern Europe', 223427),\n",
       " ('Japan', 100562),\n",
       " ('Middle East', 687630),\n",
       " ('North America', 661157),\n",
       " ('Northtern Africa', 1037463),\n",
       " ('South America', 593121),\n",
       " ('Southeastern Africa', 743112),\n",
       " ('Southern Africa', 743112),\n",
       " ('Western Europe', 387933)]"
      ]
     },
     "execution_count": 23,
     "metadata": {},
     "output_type": "execute_result"
    }
   ],
   "source": [
    "cursor.fetchall()"
   ]
  },
  {
   "cell_type": "code",
   "execution_count": 24,
   "metadata": {},
   "outputs": [
    {
     "data": {
      "text/plain": [
       "<sqlite3.Cursor at 0x7f5f14c9f500>"
      ]
     },
     "execution_count": 24,
     "metadata": {},
     "output_type": "execute_result"
    }
   ],
   "source": [
    "cursor.execute(\"\"\"\n",
    "    SELECT Region, Population from population ORDER BY Population DESC\n",
    "\"\"\")"
   ]
  },
  {
   "cell_type": "code",
   "execution_count": 25,
   "metadata": {},
   "outputs": [
    {
     "data": {
      "text/plain": [
       "[('Eastern Asia', 1362955),\n",
       " ('Northtern Africa', 1037463),\n",
       " ('Asia Pacific', 785468),\n",
       " ('Southeastern Africa', 743112),\n",
       " ('Southern Africa', 743112),\n",
       " ('Middle East', 687630),\n",
       " ('North America', 661157),\n",
       " ('South America', 593121),\n",
       " ('Western Europe', 387933),\n",
       " ('Central Africa', 330993),\n",
       " ('Eastern Europe', 223427),\n",
       " ('Japan', 100562)]"
      ]
     },
     "execution_count": 25,
     "metadata": {},
     "output_type": "execute_result"
    }
   ],
   "source": [
    "cursor.fetchall()"
   ]
  },
  {
   "cell_type": "code",
   "execution_count": 28,
   "metadata": {},
   "outputs": [
    {
     "data": {
      "text/plain": [
       "<sqlite3.Cursor at 0x7f5f14c9f500>"
      ]
     },
     "execution_count": 28,
     "metadata": {},
     "output_type": "execute_result"
    }
   ],
   "source": [
    "cursor.execute('SELECT Region from population where Population > 1000000')"
   ]
  },
  {
   "cell_type": "code",
   "execution_count": 29,
   "metadata": {},
   "outputs": [
    {
     "data": {
      "text/plain": [
       "[('Northtern Africa',), ('Eastern Asia',)]"
      ]
     },
     "execution_count": 29,
     "metadata": {},
     "output_type": "execute_result"
    }
   ],
   "source": [
    "cursor.fetchall()"
   ]
  },
  {
   "cell_type": "code",
   "execution_count": 30,
   "metadata": {},
   "outputs": [
    {
     "data": {
      "text/plain": [
       "<sqlite3.Cursor at 0x7f5f14c9f500>"
      ]
     },
     "execution_count": 30,
     "metadata": {},
     "output_type": "execute_result"
    }
   ],
   "source": [
    "cursor.execute('UPDATE population SET Population = 100600 where Region = \"Japan\"')"
   ]
  },
  {
   "cell_type": "code",
   "execution_count": 62,
   "metadata": {},
   "outputs": [],
   "source": [
    "import sqlite3\n",
    "\n",
    "with sqlite3.connect(\"Appointment.db\") as appointment:\n",
    "    cursor = appointment.cursor()\n",
    "    cursor.executescript(\n",
    "        \"\"\"\n",
    "            DROP TABLE IF EXISTS appointment;\n",
    "            DROP TABLE IF EXISTS hospital;\n",
    "            DROP TABLE IF EXISTS patient;\n",
    "            DROP TABLE IF EXISTS doctor;\n",
    "\n",
    "            CREATE TABLE patient(\n",
    "                id INTEGER NOT NULL PRIMARY KEY AUTOINCREMENT,\n",
    "                name TEXT,\n",
    "                birthday TEXT    \n",
    "            );\n",
    "            CREATE TABLE hospital(\n",
    "                id INTEGER NOT NULL PRIMARY KEY AUTOINCREMENT,\n",
    "                name TEXT,\n",
    "                address TEXT\n",
    "            );\n",
    "            CREATE TABLE doctor(\n",
    "                id INTEGER NOT NULL PRIMARY KEY AUTOINCREMENT,\n",
    "                name TEXT,\n",
    "                hospital_id,\n",
    "                foreign key(hospital_id) references hospital(id)\n",
    "            );\n",
    "            CREATE TABLE appointment(\n",
    "                id INTEGER  NOT NULL PRIMARY KEY AUTOINCREMENT,\n",
    "                patient_id INTEGER,\n",
    "                doctor_id INTEGER,\n",
    "                date TEXT,\n",
    "                foreign key(patient_id) references patient(id),\n",
    "                foreign key(doctor_id) references doctor(id)\n",
    "            );\n",
    "    INSERT INTO patient(name,birthday) values('Alice','1978/04/02'),('Zack','1964/12/15');\n",
    "\n",
    "\n",
    "    INSERT INTO doctor (name, hospital_id) values ('Rajani',1),('Nianiaris',1),('Newton',2),('Vaz',2);\n",
    "\n",
    "\n",
    "\n",
    "    INSERT into hospital (name, address) values ('Central','52 Walnut St.'),('East','8 Elm St.');\n",
    "\n",
    "\n",
    "    INSERT into appointment(patient_id, doctor_id,date) values (1,1,'2008/09/01'),\n",
    "    (1,2,'2008/10/04'),\n",
    "    (1,3,'2008/09/14'),\n",
    "    (2,3,'2008/09/18'),\n",
    "    (2,4,'2008/11/01');\n",
    "        \"\"\"\n",
    "    )"
   ]
  },
  {
   "cell_type": "code",
   "execution_count": 74,
   "metadata": {},
   "outputs": [
    {
     "data": {
      "text/plain": [
       "<sqlite3.Cursor at 0x7f5f14c587a0>"
      ]
     },
     "execution_count": 74,
     "metadata": {},
     "output_type": "execute_result"
    }
   ],
   "source": [
    "cursor.execute(\"\"\"\n",
    "    SELECT name, birthday, date from patient INNER JOIN appointment on patient.id = patient_id;\n",
    "\"\"\")"
   ]
  },
  {
   "cell_type": "code",
   "execution_count": 75,
   "metadata": {},
   "outputs": [
    {
     "data": {
      "text/plain": [
       "[('Alice', '1978/04/02', '2008/09/01'),\n",
       " ('Alice', '1978/04/02', '2008/10/04'),\n",
       " ('Alice', '1978/04/02', '2008/09/14'),\n",
       " ('Zack', '1964/12/15', '2008/09/18'),\n",
       " ('Zack', '1964/12/15', '2008/11/01')]"
      ]
     },
     "execution_count": 75,
     "metadata": {},
     "output_type": "execute_result"
    }
   ],
   "source": [
    "cursor.fetchall()"
   ]
  },
  {
   "cell_type": "code",
   "execution_count": 77,
   "metadata": {},
   "outputs": [
    {
     "data": {
      "text/plain": [
       "<sqlite3.Cursor at 0x7f5f14c587a0>"
      ]
     },
     "execution_count": 77,
     "metadata": {},
     "output_type": "execute_result"
    }
   ],
   "source": [
    "cursor.execute(\"\"\"\n",
    "SELECT doctor.name, hospital.name, address from doctor inner join hospital on hospital_id = hospital.id;\n",
    "\"\"\")"
   ]
  },
  {
   "cell_type": "code",
   "execution_count": 78,
   "metadata": {},
   "outputs": [
    {
     "data": {
      "text/plain": [
       "[('Rajani', 'Central', '52 Walnut St.'),\n",
       " ('Nianiaris', 'Central', '52 Walnut St.'),\n",
       " ('Newton', 'East', '8 Elm St.'),\n",
       " ('Vaz', 'East', '8 Elm St.')]"
      ]
     },
     "execution_count": 78,
     "metadata": {},
     "output_type": "execute_result"
    }
   ],
   "source": [
    "cursor.fetchall()"
   ]
  },
  {
   "cell_type": "code",
   "execution_count": 67,
   "metadata": {},
   "outputs": [
    {
     "data": {
      "text/plain": [
       "[(1, 'Alice', '1978/04/02'), (2, 'Zack', '1964/12/15')]"
      ]
     },
     "execution_count": 67,
     "metadata": {},
     "output_type": "execute_result"
    }
   ],
   "source": [
    "cursor.fetchall()"
   ]
  },
  {
   "cell_type": "code",
   "execution_count": 68,
   "metadata": {},
   "outputs": [
    {
     "data": {
      "text/plain": [
       "<sqlite3.Cursor at 0x7f5f14c587a0>"
      ]
     },
     "execution_count": 68,
     "metadata": {},
     "output_type": "execute_result"
    }
   ],
   "source": [
    "cursor.execute(\"\"\"\n",
    "SELECT  * from doctor;\n",
    "\"\"\")"
   ]
  },
  {
   "cell_type": "code",
   "execution_count": 69,
   "metadata": {},
   "outputs": [
    {
     "data": {
      "text/plain": [
       "[(1, 'Rajani', 1), (2, 'Nianiaris', 1), (3, 'Newton', 2), (4, 'Vaz', 2)]"
      ]
     },
     "execution_count": 69,
     "metadata": {},
     "output_type": "execute_result"
    }
   ],
   "source": [
    "cursor.fetchall()"
   ]
  },
  {
   "cell_type": "code",
   "execution_count": 85,
   "metadata": {},
   "outputs": [
    {
     "data": {
      "text/plain": [
       "<sqlite3.Cursor at 0x7f5f14c587a0>"
      ]
     },
     "execution_count": 85,
     "metadata": {},
     "output_type": "execute_result"
    }
   ],
   "source": [
    "cursor.execute(\"\"\"\n",
    "    select patient.name, patient.birthday, doctor.name,appointment.date,hospital.name, hospital.address from patient\n",
    "    inner join \n",
    "    appointment \n",
    "    on patient.id = patient_id\n",
    "    inner join \n",
    "    doctor\n",
    "    on doctor.id = doctor_id\n",
    "    inner join\n",
    "    hospital\n",
    "    on hospital.id = hospital_id\n",
    "\"\"\")"
   ]
  },
  {
   "cell_type": "code",
   "execution_count": 86,
   "metadata": {},
   "outputs": [
    {
     "data": {
      "text/plain": [
       "[('Alice', '1978/04/02', 'Rajani', '2008/09/01', 'Central', '52 Walnut St.'),\n",
       " ('Alice',\n",
       "  '1978/04/02',\n",
       "  'Nianiaris',\n",
       "  '2008/10/04',\n",
       "  'Central',\n",
       "  '52 Walnut St.'),\n",
       " ('Alice', '1978/04/02', 'Newton', '2008/09/14', 'East', '8 Elm St.'),\n",
       " ('Zack', '1964/12/15', 'Newton', '2008/09/18', 'East', '8 Elm St.'),\n",
       " ('Zack', '1964/12/15', 'Vaz', '2008/11/01', 'East', '8 Elm St.')]"
      ]
     },
     "execution_count": 86,
     "metadata": {},
     "output_type": "execute_result"
    }
   ],
   "source": [
    "cursor.fetchall()"
   ]
  },
  {
   "cell_type": "code",
   "execution_count": null,
   "metadata": {},
   "outputs": [],
   "source": []
  }
 ],
 "metadata": {
  "kernelspec": {
   "display_name": "Python 3",
   "language": "python",
   "name": "python3"
  },
  "language_info": {
   "codemirror_mode": {
    "name": "ipython",
    "version": 3
   },
   "file_extension": ".py",
   "mimetype": "text/x-python",
   "name": "python",
   "nbconvert_exporter": "python",
   "pygments_lexer": "ipython3",
   "version": "3.8.10 (default, Nov 14 2022, 12:59:47) \n[GCC 9.4.0]"
  },
  "orig_nbformat": 4,
  "vscode": {
   "interpreter": {
    "hash": "916dbcbb3f70747c44a77c7bcd40155683ae19c65e1c03b4aa3499c5328201f1"
   }
  }
 },
 "nbformat": 4,
 "nbformat_minor": 2
}
