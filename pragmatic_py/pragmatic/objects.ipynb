{
 "cells": [
  {
   "cell_type": "code",
   "execution_count": 3,
   "metadata": {},
   "outputs": [
    {
     "name": "stdout",
     "output_type": "stream",
     "text": [
      "ford memory location <__main__.Car object at 0x7f643025f280>\n",
      "subar memory location <__main__.Car object at 0x7f643025f250>\n",
      "8754267578152\n",
      "8754267578149\n"
     ]
    }
   ],
   "source": [
    "class Car():\n",
    "    pass\n",
    "\n",
    "ford = Car()\n",
    "subaru = Car()\n",
    "print(f'ford memory location {ford}')\n",
    "print(f'subar memory location {subaru}')\n",
    "print(hash(ford))\n",
    "print(hash(subaru))"
   ]
  },
  {
   "cell_type": "code",
   "execution_count": 4,
   "metadata": {},
   "outputs": [
    {
     "name": "stdout",
     "output_type": "stream",
     "text": [
      "Lion memory location <__main__.Animals object at 0x7f64302677f0>\n",
      "tiger memory location <__main__.Animals object at 0x7f6430267760>\n"
     ]
    }
   ],
   "source": [
    "class Animals():\n",
    "    pass\n",
    "\n",
    "lion = Animals()\n",
    "tiger = Animals()\n",
    "\n",
    "print(f'Lion memory location {lion}')\n",
    "print(f'tiger memory location {tiger}')"
   ]
  },
  {
   "cell_type": "code",
   "execution_count": 8,
   "metadata": {},
   "outputs": [],
   "source": [
    "class Bus():\n",
    "    pass\n",
    "\n",
    "school_bus = Bus()"
   ]
  },
  {
   "cell_type": "code",
   "execution_count": 9,
   "metadata": {},
   "outputs": [
    {
     "data": {
      "text/plain": [
       "<__main__.Bus at 0x7f6430271a30>"
      ]
     },
     "execution_count": 9,
     "metadata": {},
     "output_type": "execute_result"
    }
   ],
   "source": [
    "school_bus"
   ]
  },
  {
   "cell_type": "code",
   "execution_count": 10,
   "metadata": {},
   "outputs": [
    {
     "data": {
      "text/plain": [
       "__main__.Bus"
      ]
     },
     "execution_count": 10,
     "metadata": {},
     "output_type": "execute_result"
    }
   ],
   "source": [
    "type(school_bus)"
   ]
  },
  {
   "cell_type": "code",
   "execution_count": 11,
   "metadata": {},
   "outputs": [],
   "source": [
    "class Car():\n",
    "    sound = \"beep\"\n",
    "    color = \"red\""
   ]
  },
  {
   "cell_type": "code",
   "execution_count": 12,
   "metadata": {},
   "outputs": [
    {
     "data": {
      "text/plain": [
       "'red'"
      ]
     },
     "execution_count": 12,
     "metadata": {},
     "output_type": "execute_result"
    }
   ],
   "source": [
    "ford = Car()\n",
    "ford.color"
   ]
  },
  {
   "cell_type": "code",
   "execution_count": 13,
   "metadata": {},
   "outputs": [
    {
     "data": {
      "text/plain": [
       "'honk'"
      ]
     },
     "execution_count": 13,
     "metadata": {},
     "output_type": "execute_result"
    }
   ],
   "source": [
    "ford.sound = \"honk\"\n",
    "ford.sound"
   ]
  },
  {
   "cell_type": "code",
   "execution_count": 14,
   "metadata": {},
   "outputs": [],
   "source": [
    "class Car():\n",
    "    def __init__(self, sound, color) -> None:\n",
    "        self.sound = sound\n",
    "        self.color = color\n",
    "        "
   ]
  },
  {
   "cell_type": "code",
   "execution_count": 15,
   "metadata": {},
   "outputs": [],
   "source": [
    "ford = Car(\"beep\",\"black\")"
   ]
  },
  {
   "cell_type": "code",
   "execution_count": 17,
   "metadata": {},
   "outputs": [
    {
     "name": "stdout",
     "output_type": "stream",
     "text": [
      "black beep\n"
     ]
    }
   ],
   "source": [
    "print(ford.color, ford.sound)"
   ]
  },
  {
   "cell_type": "code",
   "execution_count": 18,
   "metadata": {},
   "outputs": [
    {
     "name": "stdout",
     "output_type": "stream",
     "text": [
      "Sammi Husky\n",
      "Chocolate Lab Casey\n"
     ]
    }
   ],
   "source": [
    "class Dog():\n",
    "    species = \"Canine\"\n",
    "\n",
    "    def __init__(self, name, breed) -> None:\n",
    "        self.name = name\n",
    "        self.breed = breed\n",
    "\n",
    "husky = Dog(\"Sammi\",\"Husky\")\n",
    "chocolate_lab= Dog(\"Chocolate Lab\",\"Casey\")\n",
    "\n",
    "print(husky.name, husky.breed)\n",
    "print(chocolate_lab.name, chocolate_lab.breed)"
   ]
  },
  {
   "cell_type": "code",
   "execution_count": 20,
   "metadata": {},
   "outputs": [
    {
     "name": "stdout",
     "output_type": "stream",
     "text": [
      "My name is Tony Stark\n"
     ]
    }
   ],
   "source": [
    "class Person():\n",
    "    def __init__(self, name) -> None:\n",
    "        self.name = name\n",
    "\n",
    "\n",
    "name = input(\"please enter you name!!!\")\n",
    "\n",
    "user = Person(name)\n",
    "\n",
    "print(f'My name is {user.name}')"
   ]
  },
  {
   "cell_type": "code",
   "execution_count": 8,
   "metadata": {},
   "outputs": [],
   "source": [
    "class Dog():\n",
    "\n",
    "    def __init__(self, name, age) -> None:\n",
    "        self.name = name\n",
    "        self.age = age\n",
    "\n",
    "    \n",
    "    \n",
    "    def setName(self, new_name):\n",
    "        self.name = new_name\n",
    "\n",
    "    def getName(self):\n",
    "        return self.name \n",
    "\n",
    "    def happyBirthday(self):\n",
    "        self.age += 1\n",
    "        \n",
    "    def makeSound(self,name):\n",
    "        print(f\"{name} is barking\")\n",
    "\n",
    "    def showAge(self, age):\n",
    "        print(age)\n",
    "\n",
    "    def printInfo():\n",
    "        print(\"I am a dog.\")\n"
   ]
  },
  {
   "cell_type": "code",
   "execution_count": 22,
   "metadata": {},
   "outputs": [
    {
     "name": "stdout",
     "output_type": "stream",
     "text": [
      "poddle is barking\n"
     ]
    }
   ],
   "source": [
    "poddle = Dog()\n",
    "poddle.makeSound(\"poddle\")"
   ]
  },
  {
   "cell_type": "code",
   "execution_count": 2,
   "metadata": {},
   "outputs": [
    {
     "name": "stdout",
     "output_type": "stream",
     "text": [
      "I am a dog.\n"
     ]
    }
   ],
   "source": [
    "Dog.printInfo()"
   ]
  },
  {
   "cell_type": "code",
   "execution_count": 5,
   "metadata": {},
   "outputs": [
    {
     "name": "stdout",
     "output_type": "stream",
     "text": [
      "6\n"
     ]
    }
   ],
   "source": [
    "sam = Dog()\n",
    "sam.showAge(6)"
   ]
  },
  {
   "cell_type": "code",
   "execution_count": 7,
   "metadata": {},
   "outputs": [
    {
     "data": {
      "text/plain": [
       "'Sammi'"
      ]
     },
     "execution_count": 7,
     "metadata": {},
     "output_type": "execute_result"
    }
   ],
   "source": [
    "sam = Dog()\n",
    "sam.setName(\"Sammi\")\n",
    "sam.getName()"
   ]
  },
  {
   "cell_type": "code",
   "execution_count": 9,
   "metadata": {},
   "outputs": [
    {
     "data": {
      "text/plain": [
       "'Sammi'"
      ]
     },
     "execution_count": 9,
     "metadata": {},
     "output_type": "execute_result"
    }
   ],
   "source": [
    "sam = Dog(\"Judas\", 5)\n",
    "sam.setName(\"Sammi\")\n",
    "sam.getName()"
   ]
  },
  {
   "cell_type": "code",
   "execution_count": 10,
   "metadata": {},
   "outputs": [
    {
     "data": {
      "text/plain": [
       "6"
      ]
     },
     "execution_count": 10,
     "metadata": {},
     "output_type": "execute_result"
    }
   ],
   "source": [
    "sam.happyBirthday()\n",
    "sam.age"
   ]
  },
  {
   "cell_type": "code",
   "execution_count": 11,
   "metadata": {},
   "outputs": [],
   "source": [
    "class Dog():\n",
    "    age = 6\n",
    "\n",
    "    def getAge(self):\n",
    "        return self.age\n",
    "    def printInfo(self):\n",
    "        if self.getAge() < 10:\n",
    "            print(\"Puppy!\")"
   ]
  },
  {
   "cell_type": "code",
   "execution_count": 12,
   "metadata": {},
   "outputs": [
    {
     "name": "stdout",
     "output_type": "stream",
     "text": [
      "Puppy!\n"
     ]
    }
   ],
   "source": [
    "sam = Dog()\n",
    "sam.printInfo()"
   ]
  },
  {
   "cell_type": "code",
   "execution_count": 13,
   "metadata": {},
   "outputs": [
    {
     "name": "stdout",
     "output_type": "stream",
     "text": [
      "This is a dog class\n"
     ]
    }
   ],
   "source": [
    "class Dog():\n",
    "    def __str__(self) -> str:\n",
    "        return \"This is a dog class\"\n",
    "\n",
    "sam = Dog()\n",
    "print(sam)"
   ]
  },
  {
   "cell_type": "code",
   "execution_count": 20,
   "metadata": {},
   "outputs": [
    {
     "name": "stdout",
     "output_type": "stream",
     "text": [
      "lion\n",
      "feline\n"
     ]
    }
   ],
   "source": [
    "class Animal():\n",
    "\n",
    "    def __init__(self, species) -> None:\n",
    "        self.species = species\n",
    "\n",
    "\n",
    "    def setSpecies(self, species):\n",
    "        self.species = species\n",
    "\n",
    "    def getSpecies(self):\n",
    "        return self.species\n",
    "\n",
    "    def __str__(self) -> str:\n",
    "        return self.species\n",
    "\n",
    "lion = Animal(\"lion\")\n",
    "print(lion)\n",
    "lion.setSpecies(\"feline\")\n",
    "feline = lion.getSpecies()\n",
    "print(feline)"
   ]
  },
  {
   "cell_type": "code",
   "execution_count": 3,
   "metadata": {},
   "outputs": [],
   "source": [
    "class Customer:\n",
    "\n",
    "    def __init__(self, name, email, phone, shipping_address,\n",
    "    billing_address=None):\n",
    "        self.name = name\n",
    "        self.email = email\n",
    "        self.phone = phone\n",
    "        self.shipping_address = shipping_address\n",
    "        self.billing_address = billing_address\n",
    "\n"
   ]
  },
  {
   "cell_type": "code",
   "execution_count": 1,
   "metadata": {},
   "outputs": [],
   "source": [
    "class Product:\n",
    "    def __init__(self, code, name, price):\n",
    "        self.code = code\n",
    "        self.name = name\n",
    "        self.price = price\n",
    "        self.old_price = price\n",
    "\n",
    "    def reduce_price(self, percentage):\n",
    "        self.old_price = self.price\n",
    "        new_price = self.price * ( 1 - percentage / 100)\n",
    "        self.price = round(new_price)\n",
    "\n",
    "    def __str__(self) -> str:\n",
    "        return (f'{self.name} ({self.code}):  {self.old_price}=>{self.price}')\n",
    "\n",
    "    def __repr__(self) -> str:\n",
    "        return (f'<Product code={self.code}, name={self.name} \\\n",
    "            name={self.name} price={self.price} old price={self.old_price}>')\n",
    "\n",
    "    def __eq__(self, other):\n",
    "        if isinstance(other, self.__class__):\n",
    "            return(self.code == other.code)\n",
    "        return False"
   ]
  },
  {
   "cell_type": "code",
   "execution_count": 4,
   "metadata": {},
   "outputs": [],
   "source": [
    "class Order:\n",
    "    \"\"\"\n",
    "        The data and state belong to the Order\n",
    "        This order contains only a  single product.\n",
    "\n",
    "        Attributes:\n",
    "        product: ordered product\n",
    "        quantity: the quantity of the product\n",
    "        customer: the customer\n",
    "        state: state of the order;'CREATED','SENT' or 'CLOSED'\n",
    "    \"\"\"\n",
    "\n",
    "    product: Product\n",
    "    quantity: int\n",
    "    customer: Customer\n",
    "    allapot: str\n",
    "\n",
    "    def __init__(self,product: Product, quantity: int, customer: Customer):\n",
    "        \"\"\"\n",
    "            The state of the order is created\n",
    "        \"\"\"\n",
    "        self.product = product\n",
    "        self.quantity = quantity\n",
    "        self.customer = customer\n",
    "        self.state = 'CREATED'\n",
    "\n",
    "    def send(self) -> None:\n",
    "        \"\"\"The order sent by the supplier\"\"\"\n",
    "        self.state = 'SENT'\n",
    "\n",
    "\n",
    "    def close(self) -> None:\n",
    "        \"\"\"The order closed by the supplier\"\"\"\n",
    "        self.state = 'CLOSED'\n"
   ]
  },
  {
   "cell_type": "code",
   "execution_count": 5,
   "metadata": {},
   "outputs": [],
   "source": [
    "class Product:\n",
    "     counter = 1\n",
    "\n",
    "\n",
    "     def __init__(self, code, name, price):\n",
    "        self.code = code\n",
    "        self.__class__.counter += 1\n",
    "        self.name = name\n",
    "        self.price = price\n",
    "        self.old_price = price\n",
    "\n",
    "     def reduce_price(self, percentage):\n",
    "        self.old_price = self.price\n",
    "        new_price = self.price * (1 - percentage /100)\n",
    "        self.price = round(new_price)\n",
    "\n",
    "     @staticmethod\n",
    "     def generate_str(code, name, price, old_price):\n",
    "        return f'{name} ({code}): {old_price}=>{price}'\n",
    "\n",
    "\n",
    "\n",
    "     def __str__(self):\n",
    "        product_str = self.generate_str(self.code, self.name,\n",
    "        self.price, self.old_price)\n",
    "        return f'{product_str}'\n",
    "\n",
    "     def __repr__(self) -> str:\n",
    "        product_str = self.generate_str(self.code, self.name,\n",
    "        self.price, self.old_price)\n",
    "        return f'< Product {product_str}>'\n",
    "\n",
    "     def __eq__(self, __o: object) -> bool:\n",
    "        if isinstance(__o, self.__class__):\n",
    "            return (self.price == __o.price\n",
    "            and self.code == __o.ccode)\n",
    "        return False\n",
    "\n",
    "    "
   ]
  },
  {
   "cell_type": "code",
   "execution_count": 6,
   "metadata": {},
   "outputs": [],
   "source": [
    "from abc import ABC, abstractmethod"
   ]
  },
  {
   "cell_type": "code",
   "execution_count": 7,
   "metadata": {},
   "outputs": [],
   "source": [
    "class Sales(ABC):\n",
    "    @abstractmethod\n",
    "    def calculate_discount(self, price, pieces):\n",
    "        pass\n",
    "    def discount_price(self, price, pieces):\n",
    "        value = price * pieces\n",
    "        discount = self.calculate_discount(price, pieces)\n",
    "        return value * ( 1- discount)"
   ]
  },
  {
   "cell_type": "code",
   "execution_count": 22,
   "metadata": {},
   "outputs": [],
   "source": [
    "class Sales4p1(Sales):\n",
    "    def calculate_discount(price, pieces):\n",
    "        return ((price // 5) / price)"
   ]
  },
  {
   "cell_type": "code",
   "execution_count": 27,
   "metadata": {},
   "outputs": [
    {
     "name": "stdout",
     "output_type": "stream",
     "text": [
      "0.2\n",
      "32.0\n"
     ]
    }
   ],
   "source": [
    "sales = Sales4p1\n",
    "print(sales.calculate_discount(20,2))\n",
    "print(sales.discount_price(sales,20, 2))\n"
   ]
  },
  {
   "cell_type": "code",
   "execution_count": 21,
   "metadata": {},
   "outputs": [
    {
     "data": {
      "text/plain": [
       "2.0"
      ]
     },
     "execution_count": 21,
     "metadata": {},
     "output_type": "execute_result"
    }
   ],
   "source": [
    "(20 // 5) / 2"
   ]
  },
  {
   "cell_type": "code",
   "execution_count": 28,
   "metadata": {},
   "outputs": [],
   "source": [
    "class Address:\n",
    "\n",
    "    def __init__(self, zip_code, city, address, country) -> None:\n",
    "        self._zip_code = zip_code\n",
    "        self._city = city\n",
    "        self._address = address\n",
    "        self._country = country\n",
    "\n",
    "    @property\n",
    "    def full_address(self):\n",
    "        return (f'{self._zip_code} {self.city},\\\n",
    "            {self.address}, {self.country}')\n",
    "\n",
    "\n",
    "    @property\n",
    "    def full_address(self):\n",
    "        return f'{self._zip_code} {self.city},\\\n",
    "            {self.address}, {self.country}'\n",
    "\n",
    "\n",
    "    @property\n",
    "    def zip_code(self):\n",
    "        return str(self._zip_code)\n",
    "\n",
    "    @property\n",
    "    def city(self):\n",
    "        return str(self._city)\n",
    "\n",
    "    @property\n",
    "    def address(self):\n",
    "        return str(self._address)\n",
    "\n",
    "    @property\n",
    "    def country(self):\n",
    "        return str(str._country)\n",
    "\n",
    "    def __eq__(self, __o: object) -> bool:\n",
    "        if isinstance(__o, self.__class__):\n",
    "            return f'{self.zip_code == __o.zip_code}\\\n",
    "                {self.address == __o.address} \\\n",
    "                    {self.country == __o.country}'\n",
    "        return False\n",
    "\n",
    "    def __hash__(self):\n",
    "        return hash((self.zip_code,self.city,self.address,\n",
    "        self.country))\n"
   ]
  },
  {
   "cell_type": "code",
   "execution_count": 29,
   "metadata": {},
   "outputs": [],
   "source": [
    "from dataclasses import dataclass, field"
   ]
  },
  {
   "cell_type": "code",
   "execution_count": 55,
   "metadata": {},
   "outputs": [],
   "source": [
    "@dataclass(frozen=True)\n",
    "class Address:\n",
    "\n",
    "    postcode: int\n",
    "    city: str\n",
    "    address: str\n",
    "    country: str = field(default='HUNGARY')\n",
    "\n",
    "@property\n",
    "def full_address(self):\n",
    "    return f'{self.postcode} {self.address}  {self.city}\\\n",
    "        {self.country}'"
   ]
  },
  {
   "cell_type": "code",
   "execution_count": 56,
   "metadata": {},
   "outputs": [],
   "source": [
    "address = Address(1020, 'Budapest', '1 Wombat Street')"
   ]
  },
  {
   "cell_type": "code",
   "execution_count": 51,
   "metadata": {},
   "outputs": [
    {
     "data": {
      "text/plain": [
       "Address(postcode=1020, city='Budapest', address='1 Wombat Street', country='HUNGARY')"
      ]
     },
     "execution_count": 51,
     "metadata": {},
     "output_type": "execute_result"
    }
   ],
   "source": [
    "address"
   ]
  },
  {
   "cell_type": "code",
   "execution_count": 57,
   "metadata": {},
   "outputs": [],
   "source": [
    "address1 = Address(1030, 'Prague', '1 Wombat Street')"
   ]
  },
  {
   "cell_type": "code",
   "execution_count": 58,
   "metadata": {},
   "outputs": [
    {
     "data": {
      "text/plain": [
       "Address(postcode=1030, city='Prague', address='1 Wombat Street', country='HUNGARY')"
      ]
     },
     "execution_count": 58,
     "metadata": {},
     "output_type": "execute_result"
    }
   ],
   "source": [
    "address1"
   ]
  },
  {
   "cell_type": "code",
   "execution_count": 59,
   "metadata": {},
   "outputs": [
    {
     "data": {
      "text/plain": [
       "'1 Wombat Street'"
      ]
     },
     "execution_count": 59,
     "metadata": {},
     "output_type": "execute_result"
    }
   ],
   "source": [
    "address.address"
   ]
  },
  {
   "cell_type": "code",
   "execution_count": 67,
   "metadata": {},
   "outputs": [],
   "source": [
    "class Duck():\n",
    "    def __init__(self, input_name):\n",
    "        self.hidden_name = input_name\n",
    "\n",
    "    @property\n",
    "    def name(self):\n",
    "        print('inside the getter')\n",
    "        return self.hidden_name\n",
    "\n",
    "    @name.setter\n",
    "    def name(self, input_name):\n",
    "        print('inside the setter')\n",
    "        self.hidden_name = input_name"
   ]
  },
  {
   "cell_type": "code",
   "execution_count": 68,
   "metadata": {},
   "outputs": [],
   "source": [
    "fowl = Duck('Howard')"
   ]
  },
  {
   "cell_type": "code",
   "execution_count": 69,
   "metadata": {},
   "outputs": [
    {
     "name": "stdout",
     "output_type": "stream",
     "text": [
      "inside the getter\n"
     ]
    },
    {
     "data": {
      "text/plain": [
       "'Howard'"
      ]
     },
     "execution_count": 69,
     "metadata": {},
     "output_type": "execute_result"
    }
   ],
   "source": [
    "fowl.name"
   ]
  },
  {
   "cell_type": "code",
   "execution_count": 70,
   "metadata": {},
   "outputs": [
    {
     "name": "stdout",
     "output_type": "stream",
     "text": [
      "inside the setter\n"
     ]
    }
   ],
   "source": [
    "fowl.name = 'Donald'"
   ]
  },
  {
   "cell_type": "code",
   "execution_count": 71,
   "metadata": {},
   "outputs": [
    {
     "name": "stdout",
     "output_type": "stream",
     "text": [
      "inside the getter\n"
     ]
    },
    {
     "data": {
      "text/plain": [
       "'Donald'"
      ]
     },
     "execution_count": 71,
     "metadata": {},
     "output_type": "execute_result"
    }
   ],
   "source": [
    "fowl.name"
   ]
  },
  {
   "cell_type": "code",
   "execution_count": 72,
   "metadata": {},
   "outputs": [],
   "source": [
    "fowl.hidden_name = \"None\""
   ]
  },
  {
   "cell_type": "code",
   "execution_count": 73,
   "metadata": {},
   "outputs": [
    {
     "name": "stdout",
     "output_type": "stream",
     "text": [
      "inside the getter\n"
     ]
    },
    {
     "data": {
      "text/plain": [
       "'None'"
      ]
     },
     "execution_count": 73,
     "metadata": {},
     "output_type": "execute_result"
    }
   ],
   "source": [
    "fowl.name"
   ]
  },
  {
   "cell_type": "code",
   "execution_count": 11,
   "metadata": {},
   "outputs": [],
   "source": [
    "class Dog:\n",
    "    species = 'Canis familiaris'\n",
    "\n",
    "    def __init__(self, name, age, coat_color) -> None:\n",
    "        self.name = name\n",
    "        self.age = age\n",
    "        self.coat_color = coat_color\n",
    "        self.species = __class__.species\n",
    "\n",
    "\n",
    "    def description(self):\n",
    "        return f'{self.name} is {self.age} years old'\n",
    "\n",
    "    def speak(self, sound):\n",
    "        return f\"{self.name} says {sound}\"\n",
    "\n",
    "    \n",
    "\n",
    "    def __str__(self) -> str:\n",
    "        return f'{self.name} is {self.age} years old'\n",
    "\n",
    "    def __repr__(self) -> str:\n",
    "        return f'Name is {self.name}, Age is {self.age}'"
   ]
  },
  {
   "cell_type": "code",
   "execution_count": 16,
   "metadata": {},
   "outputs": [
    {
     "data": {
      "text/plain": [
       "Name is Buddy, Age is 9"
      ]
     },
     "execution_count": 16,
     "metadata": {},
     "output_type": "execute_result"
    }
   ],
   "source": [
    "buddy = Dog(\"Buddy\", 9)\n",
    "buddy"
   ]
  },
  {
   "cell_type": "code",
   "execution_count": 4,
   "metadata": {},
   "outputs": [
    {
     "data": {
      "text/plain": [
       "'Buddy'"
      ]
     },
     "execution_count": 4,
     "metadata": {},
     "output_type": "execute_result"
    }
   ],
   "source": [
    "buddy.name"
   ]
  },
  {
   "cell_type": "code",
   "execution_count": 5,
   "metadata": {},
   "outputs": [
    {
     "data": {
      "text/plain": [
       "9"
      ]
     },
     "execution_count": 5,
     "metadata": {},
     "output_type": "execute_result"
    }
   ],
   "source": [
    "buddy.age"
   ]
  },
  {
   "cell_type": "code",
   "execution_count": 7,
   "metadata": {},
   "outputs": [],
   "source": [
    "buddy.species = \"Felis silvestries\""
   ]
  },
  {
   "cell_type": "code",
   "execution_count": 8,
   "metadata": {},
   "outputs": [
    {
     "data": {
      "text/plain": [
       "'Felis silvestries'"
      ]
     },
     "execution_count": 8,
     "metadata": {},
     "output_type": "execute_result"
    }
   ],
   "source": [
    "buddy.species"
   ]
  },
  {
   "cell_type": "code",
   "execution_count": 11,
   "metadata": {},
   "outputs": [
    {
     "data": {
      "text/plain": [
       "'Buddy is 9 years old'"
      ]
     },
     "execution_count": 11,
     "metadata": {},
     "output_type": "execute_result"
    }
   ],
   "source": [
    "buddy.description()"
   ]
  },
  {
   "cell_type": "code",
   "execution_count": 12,
   "metadata": {},
   "outputs": [
    {
     "data": {
      "text/plain": [
       "Name is Philo, Age is 5"
      ]
     },
     "execution_count": 12,
     "metadata": {},
     "output_type": "execute_result"
    }
   ],
   "source": [
    "philo = Dog(\"Philo\",5, \"brown\")\n",
    "philo"
   ]
  },
  {
   "cell_type": "code",
   "execution_count": 21,
   "metadata": {},
   "outputs": [
    {
     "name": "stdout",
     "output_type": "stream",
     "text": [
      "Philo coat is brown\n"
     ]
    }
   ],
   "source": [
    "print(f'{philo.name} coat is {philo.coat_color}')"
   ]
  },
  {
   "cell_type": "code",
   "execution_count": 39,
   "metadata": {},
   "outputs": [],
   "source": [
    "class Car:\n",
    "\n",
    "    def __init__(self, color, mileage) -> None:\n",
    "        self.color = color\n",
    "        self.mileage = mileage\n",
    "\n",
    "\n",
    "    def drive(self,miles):\n",
    "        print( self.mileage + miles)\n",
    "\n",
    "    def __str__(self) -> str:\n",
    "        return f'The {self.color} has {self.mileage} miles.'"
   ]
  },
  {
   "cell_type": "code",
   "execution_count": 40,
   "metadata": {},
   "outputs": [],
   "source": [
    "blue_car = Car(\"blue\", 20000)\n",
    "red_car = Car(\"red\", 30000)"
   ]
  },
  {
   "cell_type": "code",
   "execution_count": 37,
   "metadata": {},
   "outputs": [
    {
     "name": "stdout",
     "output_type": "stream",
     "text": [
      "The blue has 20000 miles.\n",
      "The red has 30000 miles.\n"
     ]
    }
   ],
   "source": [
    "print(blue_car)\n",
    "print(red_car)"
   ]
  },
  {
   "cell_type": "code",
   "execution_count": 41,
   "metadata": {},
   "outputs": [
    {
     "name": "stdout",
     "output_type": "stream",
     "text": [
      "20000\n"
     ]
    }
   ],
   "source": [
    "blue_car.drive(0)"
   ]
  },
  {
   "cell_type": "code",
   "execution_count": null,
   "metadata": {},
   "outputs": [],
   "source": [
    "miles = Dog(\"Miles\", 4, \"Jack Russell Terrier\")\n",
    "buddy = Dog(\"Buddy\", 9, \"Dachshund\")\n",
    "jack = Dog(\"Jack\", 3, \"Bulldog\")\n",
    "jim = Dog(\"Jim\", 5, \"Bulldog\")"
   ]
  },
  {
   "cell_type": "code",
   "execution_count": 43,
   "metadata": {},
   "outputs": [
    {
     "data": {
      "text/plain": [
       "'Buddy says Yap'"
      ]
     },
     "execution_count": 43,
     "metadata": {},
     "output_type": "execute_result"
    }
   ],
   "source": [
    "buddy.speak(\"Yap\")"
   ]
  },
  {
   "cell_type": "code",
   "execution_count": 13,
   "metadata": {},
   "outputs": [],
   "source": [
    "class JackRussellTerrier(Dog):\n",
    "    def __init__(self, name, age, coat_color, breed) -> None:\n",
    "        super().__init__(name, age, coat_color)\n",
    "        self.breed = breed\n",
    "        \n",
    "\n",
    "    "
   ]
  },
  {
   "cell_type": "code",
   "execution_count": 8,
   "metadata": {},
   "outputs": [],
   "source": [
    "class Dachshund(Dog):\n",
    "    \n",
    "    def speak(self, sound=\"Arf\"):\n",
    "        return f\"{self.name} says {sound}\""
   ]
  },
  {
   "cell_type": "code",
   "execution_count": 46,
   "metadata": {},
   "outputs": [],
   "source": [
    "class Bulldog(Dog):\n",
    "    pass"
   ]
  },
  {
   "cell_type": "code",
   "execution_count": 14,
   "metadata": {},
   "outputs": [],
   "source": [
    "miles = JackRussellTerrier(\"Miles\",4, \"brown\",\"Dachshund\")"
   ]
  },
  {
   "cell_type": "code",
   "execution_count": 15,
   "metadata": {},
   "outputs": [
    {
     "data": {
      "text/plain": [
       "__main__.JackRussellTerrier"
      ]
     },
     "execution_count": 15,
     "metadata": {},
     "output_type": "execute_result"
    }
   ],
   "source": [
    "type(miles)"
   ]
  },
  {
   "cell_type": "code",
   "execution_count": 5,
   "metadata": {},
   "outputs": [
    {
     "data": {
      "text/plain": [
       "True"
      ]
     },
     "execution_count": 5,
     "metadata": {},
     "output_type": "execute_result"
    }
   ],
   "source": [
    "isinstance(miles, Dog)"
   ]
  },
  {
   "cell_type": "code",
   "execution_count": 10,
   "metadata": {},
   "outputs": [
    {
     "data": {
      "text/plain": [
       "'Miles says Arf'"
      ]
     },
     "execution_count": 10,
     "metadata": {},
     "output_type": "execute_result"
    }
   ],
   "source": [
    "miles.speak()"
   ]
  },
  {
   "cell_type": "code",
   "execution_count": 90,
   "metadata": {},
   "outputs": [],
   "source": [
    "class Book():\n",
    "\n",
    "    def __init__(self,title :str,authors: list ,publisher: str,  ISBN:str, price:float) -> None:\n",
    "        self.title = title\n",
    "        self.authors = authors\n",
    "        self.publisher = publisher\n",
    "        self.price = price\n",
    "        self.ISBN = ISBN\n",
    "\n",
    "    \n",
    "    def num_author(self):\n",
    "        return len(self.authors)\n",
    "\n",
    "    def __str__(self) -> str:\n",
    "        return f'Title {self.title}\\n\\\n",
    "Authors: {self.authors}\\n\\\n",
    "Publsher: {self.publisher}\\n\\\n",
    "ISBN {self.ISBN}\\n\\\n",
    "Price: {self.price}\\n'\n",
    "\n",
    "    def __repr__(self) -> str:\n",
    "        return f'{self.title} was written by {self.num_author()} authors and costs ${self.price}'\n",
    "\n",
    "    def __eq__(self, __o: object) -> bool:\n",
    "        if isinstance(__o, self.__class__):\n",
    "            return f'{self.ISBN == __o.ISBN}'\n",
    "        return False"
   ]
  },
  {
   "cell_type": "code",
   "execution_count": 91,
   "metadata": {},
   "outputs": [],
   "source": [
    "book1 = Book('Practical Programming',['Campbell','Gries','Montojo'],'Pragmatic Bookshelf','978-1-6805026-8-8',25.0)"
   ]
  },
  {
   "cell_type": "code",
   "execution_count": 92,
   "metadata": {},
   "outputs": [
    {
     "data": {
      "text/plain": [
       "Practical Programming was written by 3 authors and costs $25.0"
      ]
     },
     "execution_count": 92,
     "metadata": {},
     "output_type": "execute_result"
    }
   ],
   "source": [
    "book1"
   ]
  },
  {
   "cell_type": "code",
   "execution_count": 93,
   "metadata": {},
   "outputs": [],
   "source": [
    "book2 = Book('New Programmer\\'s Survival Manual',['Carter'],'Pragmatic Bookshelf', '978-1-93435-681-4',19.0)"
   ]
  },
  {
   "cell_type": "code",
   "execution_count": 94,
   "metadata": {},
   "outputs": [
    {
     "data": {
      "text/plain": [
       "New Programmer's Survival Manual was written by 1 authors and costs $19.0"
      ]
     },
     "execution_count": 94,
     "metadata": {},
     "output_type": "execute_result"
    }
   ],
   "source": [
    "book2"
   ]
  },
  {
   "cell_type": "code",
   "execution_count": 95,
   "metadata": {},
   "outputs": [
    {
     "name": "stdout",
     "output_type": "stream",
     "text": [
      "Title Practical Programming\n",
      "Authors: ['Campbell', 'Gries', 'Montojo']\n",
      "Publsher: Pragmatic Bookshelf\n",
      "ISBN 978-1-6805026-8-8\n",
      "Price: 25.0\n",
      "\n"
     ]
    }
   ],
   "source": [
    "print(book1)"
   ]
  },
  {
   "cell_type": "code",
   "execution_count": 97,
   "metadata": {},
   "outputs": [
    {
     "data": {
      "text/plain": [
       "False"
      ]
     },
     "execution_count": 97,
     "metadata": {},
     "output_type": "execute_result"
    }
   ],
   "source": [
    "book1 != book2"
   ]
  },
  {
   "cell_type": "code",
   "execution_count": null,
   "metadata": {},
   "outputs": [],
   "source": []
  }
 ],
 "metadata": {
  "kernelspec": {
   "display_name": "Python 3",
   "language": "python",
   "name": "python3"
  },
  "language_info": {
   "codemirror_mode": {
    "name": "ipython",
    "version": 3
   },
   "file_extension": ".py",
   "mimetype": "text/x-python",
   "name": "python",
   "nbconvert_exporter": "python",
   "pygments_lexer": "ipython3",
   "version": "3.8.10"
  },
  "orig_nbformat": 4,
  "vscode": {
   "interpreter": {
    "hash": "916dbcbb3f70747c44a77c7bcd40155683ae19c65e1c03b4aa3499c5328201f1"
   }
  }
 },
 "nbformat": 4,
 "nbformat_minor": 2
}
