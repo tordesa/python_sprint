{
 "cells": [
  {
   "cell_type": "code",
   "execution_count": 1,
   "metadata": {},
   "outputs": [],
   "source": [
    "def multiplier(x,y):\n",
    "    return str(x *y)"
   ]
  },
  {
   "cell_type": "code",
   "execution_count": 2,
   "metadata": {},
   "outputs": [
    {
     "data": {
      "text/plain": [
       "'20'"
      ]
     },
     "execution_count": 2,
     "metadata": {},
     "output_type": "execute_result"
    }
   ],
   "source": [
    "return_value = multiplier(4, 5)\n",
    "return_value"
   ]
  },
  {
   "cell_type": "code",
   "execution_count": 3,
   "metadata": {},
   "outputs": [
    {
     "data": {
      "text/plain": [
       "str"
      ]
     },
     "execution_count": 3,
     "metadata": {},
     "output_type": "execute_result"
    }
   ],
   "source": [
    "type(return_value)"
   ]
  },
  {
   "cell_type": "code",
   "execution_count": 4,
   "metadata": {},
   "outputs": [],
   "source": [
    "a = 5\n",
    "def adder(x,y):\n",
    "    return(a + b)\n",
    "\n",
    "class Ball():\n",
    "    pass"
   ]
  },
  {
   "cell_type": "code",
   "execution_count": 5,
   "metadata": {},
   "outputs": [
    {
     "data": {
      "text/plain": [
       "False"
      ]
     },
     "execution_count": 5,
     "metadata": {},
     "output_type": "execute_result"
    }
   ],
   "source": [
    "callable(a)"
   ]
  },
  {
   "cell_type": "code",
   "execution_count": 6,
   "metadata": {},
   "outputs": [
    {
     "data": {
      "text/plain": [
       "True"
      ]
     },
     "execution_count": 6,
     "metadata": {},
     "output_type": "execute_result"
    }
   ],
   "source": [
    "callable(adder)"
   ]
  },
  {
   "cell_type": "code",
   "execution_count": 7,
   "metadata": {},
   "outputs": [
    {
     "data": {
      "text/plain": [
       "True"
      ]
     },
     "execution_count": 7,
     "metadata": {},
     "output_type": "execute_result"
    }
   ],
   "source": [
    "callable(Ball)"
   ]
  },
  {
   "cell_type": "code",
   "execution_count": 8,
   "metadata": {},
   "outputs": [
    {
     "data": {
      "text/plain": [
       "4"
      ]
     },
     "execution_count": 8,
     "metadata": {},
     "output_type": "execute_result"
    }
   ],
   "source": [
    "len('abcd')"
   ]
  },
  {
   "cell_type": "code",
   "execution_count": 9,
   "metadata": {},
   "outputs": [
    {
     "data": {
      "text/plain": [
       "{'__name__': '__main__',\n",
       " '__doc__': 'Automatically created module for IPython interactive environment',\n",
       " '__package__': None,\n",
       " '__loader__': None,\n",
       " '__spec__': None,\n",
       " '__builtin__': <module 'builtins' (built-in)>,\n",
       " '__builtins__': <module 'builtins' (built-in)>,\n",
       " '_ih': ['',\n",
       "  'def multiplier(x,y):\\n    return str(x *y)',\n",
       "  'return_value = multiplier(4, 5)\\nreturn_value',\n",
       "  'type(return_value)',\n",
       "  'a = 5\\ndef adder(x,y):\\n    return(a + b)\\n\\nclass Ball():\\n    pass',\n",
       "  'callable(a)',\n",
       "  'callable(adder)',\n",
       "  'callable(Ball)',\n",
       "  \"len('abcd')\",\n",
       "  'locals()'],\n",
       " '_oh': {2: '20', 3: str, 5: False, 6: True, 7: True, 8: 4},\n",
       " '_dh': ['/home/jedidah/Documents/py_project/pragmatic_py/pragmatic'],\n",
       " 'In': ['',\n",
       "  'def multiplier(x,y):\\n    return str(x *y)',\n",
       "  'return_value = multiplier(4, 5)\\nreturn_value',\n",
       "  'type(return_value)',\n",
       "  'a = 5\\ndef adder(x,y):\\n    return(a + b)\\n\\nclass Ball():\\n    pass',\n",
       "  'callable(a)',\n",
       "  'callable(adder)',\n",
       "  'callable(Ball)',\n",
       "  \"len('abcd')\",\n",
       "  'locals()'],\n",
       " 'Out': {2: '20', 3: str, 5: False, 6: True, 7: True, 8: 4},\n",
       " 'get_ipython': <bound method InteractiveShell.get_ipython of <ipykernel.zmqshell.ZMQInteractiveShell object at 0x7f02fdec3190>>,\n",
       " 'exit': <IPython.core.autocall.ZMQExitAutocall at 0x7f02fdec3a60>,\n",
       " 'quit': <IPython.core.autocall.ZMQExitAutocall at 0x7f02fdec3a60>,\n",
       " '_': 4,\n",
       " '__': True,\n",
       " '___': True,\n",
       " 'os': <module 'os' from '/usr/lib/python3.8/os.py'>,\n",
       " 'sys': <module 'sys' (built-in)>,\n",
       " '__vsc_ipynb_file__': '/home/jedidah/Documents/py_project/pragmatic_py/pragmatic/introspection.ipynb',\n",
       " '_i': \"len('abcd')\",\n",
       " '_ii': 'callable(Ball)',\n",
       " '_iii': 'callable(adder)',\n",
       " '_i1': 'def multiplier(x,y):\\n    return str(x *y)',\n",
       " 'multiplier': <function __main__.multiplier(x, y)>,\n",
       " '_i2': 'return_value = multiplier(4, 5)\\nreturn_value',\n",
       " 'return_value': '20',\n",
       " '_2': '20',\n",
       " '_i3': 'type(return_value)',\n",
       " '_3': str,\n",
       " '_i4': 'a = 5\\ndef adder(x,y):\\n    return(a + b)\\n\\nclass Ball():\\n    pass',\n",
       " 'a': 5,\n",
       " 'adder': <function __main__.adder(x, y)>,\n",
       " 'Ball': __main__.Ball,\n",
       " '_i5': 'callable(a)',\n",
       " '_5': False,\n",
       " '_i6': 'callable(adder)',\n",
       " '_6': True,\n",
       " '_i7': 'callable(Ball)',\n",
       " '_7': True,\n",
       " '_i8': \"len('abcd')\",\n",
       " '_8': 4,\n",
       " '_i9': 'locals()'}"
      ]
     },
     "execution_count": 9,
     "metadata": {},
     "output_type": "execute_result"
    }
   ],
   "source": [
    "locals()"
   ]
  },
  {
   "cell_type": "code",
   "execution_count": 10,
   "metadata": {},
   "outputs": [],
   "source": [
    "def adder(x, y):\n",
    "    print(locals())\n",
    "    return x + y"
   ]
  },
  {
   "cell_type": "code",
   "execution_count": 11,
   "metadata": {},
   "outputs": [
    {
     "name": "stdout",
     "output_type": "stream",
     "text": [
      "{'x': 4, 'y': 5}\n"
     ]
    },
    {
     "data": {
      "text/plain": [
       "9"
      ]
     },
     "execution_count": 11,
     "metadata": {},
     "output_type": "execute_result"
    }
   ],
   "source": [
    "adder(4,5)"
   ]
  },
  {
   "cell_type": "code",
   "execution_count": null,
   "metadata": {},
   "outputs": [],
   "source": []
  }
 ],
 "metadata": {
  "kernelspec": {
   "display_name": "Python 3",
   "language": "python",
   "name": "python3"
  },
  "language_info": {
   "codemirror_mode": {
    "name": "ipython",
    "version": 3
   },
   "file_extension": ".py",
   "mimetype": "text/x-python",
   "name": "python",
   "nbconvert_exporter": "python",
   "pygments_lexer": "ipython3",
   "version": "3.8.10 (default, Nov 14 2022, 12:59:47) \n[GCC 9.4.0]"
  },
  "orig_nbformat": 4,
  "vscode": {
   "interpreter": {
    "hash": "916dbcbb3f70747c44a77c7bcd40155683ae19c65e1c03b4aa3499c5328201f1"
   }
  }
 },
 "nbformat": 4,
 "nbformat_minor": 2
}
