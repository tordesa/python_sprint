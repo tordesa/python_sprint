{
 "cells": [
  {
   "attachments": {},
   "cell_type": "markdown",
   "metadata": {},
   "source": [
    "### Generators and Iterators"
   ]
  },
  {
   "cell_type": "markdown",
   "metadata": {},
   "source": []
  },
  {
   "cell_type": "code",
   "execution_count": 4,
   "metadata": {},
   "outputs": [
    {
     "name": "stdout",
     "output_type": "stream",
     "text": [
      "baseball\n",
      "soccer\n",
      "football\n",
      "hockey\n",
      "basketball\n"
     ]
    }
   ],
   "source": [
    "# creating a basic iterator from iterable\n",
    "sports = [\"baseball\", 'soccer',\"football\", \"hockey\",'basketball']\n",
    "my_iter = iter(sports)\n",
    "print(next(my_iter))\n",
    "print(next(my_iter))\n",
    "for item in my_iter:\n",
    "    print(item)\n"
   ]
  },
  {
   "cell_type": "code",
   "execution_count": 25,
   "metadata": {},
   "outputs": [],
   "source": [
    "# creating your own iterator\n",
    "\n",
    "class Alphabet():\n",
    "\n",
    "    def __iter__(self):\n",
    "        self.letters = \"abcdefghijklmnopqrstuvwkyz\"\n",
    "        self.index = 0\n",
    "        return self\n",
    "\n",
    "    def __next__(self):\n",
    "        if self.index <= 25:\n",
    "            char = self.letters[self.index]\n",
    "            self.index += 1\n",
    "            return char\n",
    "        else:\n",
    "            raise StopIteration\n",
    "    "
   ]
  },
  {
   "cell_type": "code",
   "execution_count": 26,
   "metadata": {},
   "outputs": [
    {
     "name": "stdout",
     "output_type": "stream",
     "text": [
      "a\n",
      "b\n",
      "c\n",
      "d\n",
      "e\n",
      "f\n",
      "g\n",
      "h\n",
      "i\n",
      "j\n",
      "k\n",
      "l\n",
      "m\n",
      "n\n",
      "o\n",
      "p\n",
      "q\n",
      "r\n",
      "s\n",
      "t\n",
      "u\n",
      "v\n",
      "w\n",
      "k\n",
      "y\n",
      "z\n"
     ]
    }
   ],
   "source": [
    "for char in Alphabet():\n",
    "    print(char)"
   ]
  },
  {
   "cell_type": "code",
   "execution_count": 13,
   "metadata": {},
   "outputs": [],
   "source": [
    "def myRange(stop, start=0, step=1):\n",
    "    while start < stop:\n",
    "        print(f\"Generator Start Value: {start}\")\n",
    "        yield start\n",
    "        start += step"
   ]
  },
  {
   "cell_type": "code",
   "execution_count": 28,
   "metadata": {},
   "outputs": [
    {
     "name": "stdout",
     "output_type": "stream",
     "text": [
      "Generator Start Value: 0\n",
      "for loop X value:0\n",
      "Generator Start Value: 1\n",
      "for loop X value:1\n",
      "Generator Start Value: 2\n",
      "for loop X value:4\n",
      "Generator Start Value: 3\n",
      "for loop X value:9\n"
     ]
    }
   ],
   "source": [
    "for x in myRange(4):\n",
    "    print(f'for loop X value:{x*x}')"
   ]
  },
  {
   "cell_type": "code",
   "execution_count": 29,
   "metadata": {},
   "outputs": [],
   "source": [
    "# creating and applying our decorator\n",
    "\n",
    "def decorator(func):\n",
    "    def wrap():\n",
    "        print(\"=====\")\n",
    "        func()\n",
    "        print(\"=====\")\n",
    "    return wrap"
   ]
  },
  {
   "cell_type": "code",
   "execution_count": null,
   "metadata": {},
   "outputs": [],
   "source": []
  },
  {
   "cell_type": "code",
   "execution_count": 34,
   "metadata": {},
   "outputs": [
    {
     "name": "stdout",
     "output_type": "stream",
     "text": [
      "=====\n",
      "John!\n",
      "=====\n"
     ]
    }
   ],
   "source": [
    "@decorator\n",
    "def printName():\n",
    "    print(\"John!\")\n",
    "printName()"
   ]
  },
  {
   "cell_type": "code",
   "execution_count": 40,
   "metadata": {},
   "outputs": [],
   "source": [
    "# creating a decorator that takes in parameters\n",
    "\n",
    "def run_times(num):\n",
    "    def wrap(func):\n",
    "        for i in range(num):\n",
    "            func()\n",
    "    return wrap"
   ]
  },
  {
   "cell_type": "code",
   "execution_count": 44,
   "metadata": {},
   "outputs": [
    {
     "name": "stdout",
     "output_type": "stream",
     "text": [
      "Hello\n",
      "Hello\n",
      "Hello\n",
      "Hello\n"
     ]
    }
   ],
   "source": [
    "@run_times(4)\n",
    "def sayHello():\n",
    "    print(\"Hello\")"
   ]
  },
  {
   "cell_type": "code",
   "execution_count": 45,
   "metadata": {},
   "outputs": [],
   "source": [
    "def birthday(func):\n",
    "    def wrap(name, age):\n",
    "        func(name, age + 1)\n",
    "    return wrap"
   ]
  },
  {
   "cell_type": "code",
   "execution_count": 48,
   "metadata": {},
   "outputs": [],
   "source": [
    "@birthday\n",
    "def celebrate(name, age):\n",
    "    print(f\"Happy birthday {name}, you are now {age}\")"
   ]
  },
  {
   "cell_type": "code",
   "execution_count": 49,
   "metadata": {},
   "outputs": [
    {
     "name": "stdout",
     "output_type": "stream",
     "text": [
      "Happy birthday Paul, you are now 44\n"
     ]
    }
   ],
   "source": [
    "celebrate(\"Paul\", 43)"
   ]
  },
  {
   "cell_type": "code",
   "execution_count": 55,
   "metadata": {},
   "outputs": [],
   "source": [
    "def login_required(func):\n",
    "    def wrap(user):\n",
    "        password = input(\"What is the password?\")\n",
    "        if password == user[\"password\"]:\n",
    "            func(user)\n",
    "        else:\n",
    "            print(\"Access Denied\")\n",
    "    return wrap"
   ]
  },
  {
   "cell_type": "code",
   "execution_count": 56,
   "metadata": {},
   "outputs": [
    {
     "name": "stdout",
     "output_type": "stream",
     "text": [
      "Access Denied\n"
     ]
    }
   ],
   "source": [
    "@login_required\n",
    "def restrictedFunc(user):\n",
    "    print(f\"Access granted, welcome {user['name']}\")\n",
    "user = {\"name\":\"Jess\",\"password\":\"ilywpf\"}\n",
    "restrictedFunc(user)"
   ]
  },
  {
   "cell_type": "code",
   "execution_count": null,
   "metadata": {},
   "outputs": [],
   "source": []
  }
 ],
 "metadata": {
  "kernelspec": {
   "display_name": "Python 3",
   "language": "python",
   "name": "python3"
  },
  "language_info": {
   "codemirror_mode": {
    "name": "ipython",
    "version": 3
   },
   "file_extension": ".py",
   "mimetype": "text/x-python",
   "name": "python",
   "nbconvert_exporter": "python",
   "pygments_lexer": "ipython3",
   "version": "3.8.10"
  },
  "orig_nbformat": 4,
  "vscode": {
   "interpreter": {
    "hash": "916dbcbb3f70747c44a77c7bcd40155683ae19c65e1c03b4aa3499c5328201f1"
   }
  }
 },
 "nbformat": 4,
 "nbformat_minor": 2
}
