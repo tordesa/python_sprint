{
 "cells": [
  {
   "cell_type": "code",
   "execution_count": 1,
   "id": "d4f16f0b",
   "metadata": {},
   "outputs": [],
   "source": [
    "class Product:\n",
    "    def __init__(self, code, name, price) -> None:\n",
    "        self.code = code\n",
    "        self.name = name\n",
    "        self.price = price\n",
    "        self.old_price = price\n",
    "\n",
    "    def reduce_price(self, percent):\n",
    "        self.old_price = self.price\n",
    "        new_price = self.price * (1 - percent/100)\n",
    "        self.price = round(new_price)"
   ]
  },
  {
   "cell_type": "code",
   "execution_count": 2,
   "id": "51a5551f",
   "metadata": {},
   "outputs": [],
   "source": [
    "K01 = Product('K01', 'cube', 1000)"
   ]
  },
  {
   "cell_type": "code",
   "execution_count": 3,
   "id": "eac461eb",
   "metadata": {},
   "outputs": [],
   "source": [
    "k02 = Product('K02', 'small cube', 500)"
   ]
  },
  {
   "cell_type": "code",
   "execution_count": 4,
   "id": "fdb79c14",
   "metadata": {},
   "outputs": [
    {
     "name": "stdout",
     "output_type": "stream",
     "text": [
      "cube 1000 small cube 500\n"
     ]
    }
   ],
   "source": [
    "print(K01.name, K01.price,k02.name,k02.price)"
   ]
  },
  {
   "cell_type": "code",
   "execution_count": 9,
   "id": "04446c3a",
   "metadata": {},
   "outputs": [],
   "source": [
    "class Address:\n",
    "    def __init__(self, country, zip_code, city, address) -> None:\n",
    "        self.country = country\n",
    "        self.zip_code = zip_code\n",
    "        self.city = city\n",
    "        self.address = address"
   ]
  },
  {
   "cell_type": "code",
   "execution_count": 5,
   "id": "2815cbbd",
   "metadata": {},
   "outputs": [
    {
     "name": "stdout",
     "output_type": "stream",
     "text": [
      "139686974082688 ['__class__', '__delattr__', '__dict__', '__dir__', '__doc__', '__eq__', '__format__', '__ge__', '__getattribute__', '__gt__', '__hash__', '__init__', '__init_subclass__', '__le__', '__lt__', '__module__', '__ne__', '__new__', '__reduce__', '__reduce_ex__', '__repr__', '__setattr__', '__sizeof__', '__str__', '__subclasshook__', '__weakref__', 'code', 'name', 'old_price', 'price', 'reduce_price']\n"
     ]
    }
   ],
   "source": [
    "product = Product('K01','cube', 1000)\n",
    "print(id(product), dir(product))"
   ]
  },
  {
   "cell_type": "code",
   "execution_count": 6,
   "id": "3a19b536",
   "metadata": {},
   "outputs": [],
   "source": [
    "class Customer:\n",
    "    def __init__(self, name, email, phone,\n",
    "     shipping_address,\n",
    "     billing_address=None) -> None:\n",
    "        self.name = name\n",
    "        self.email = email\n",
    "        self.phone = phone\n",
    "        self.shipping_address = shipping_address\n",
    "        self.billing_address = billing_address"
   ]
  },
  {
   "cell_type": "code",
   "execution_count": 7,
   "id": "b793b79f",
   "metadata": {},
   "outputs": [],
   "source": [
    "class Order:\n",
    "    def __init__(self, product, quantity, customer) -> None:\n",
    "        self.product = product\n",
    "        self.quantity = quantity\n",
    "        self.customer = customer\n",
    "        self.state = 'CREATED'\n",
    "\n",
    "\n",
    "    def close(self):\n",
    "        self.state = 'READYTOPOST'\n",
    "\n",
    "    def post(self):\n",
    "        self.state = 'SENT'"
   ]
  },
  {
   "cell_type": "code",
   "execution_count": 10,
   "id": "50394f8e",
   "metadata": {},
   "outputs": [],
   "source": [
    "address = Address(1020, 'Budapest', '1 Wombat Street','HUNGARY')"
   ]
  },
  {
   "cell_type": "code",
   "execution_count": null,
   "id": "3856a870",
   "metadata": {},
   "outputs": [],
   "source": []
  }
 ],
 "metadata": {
  "kernelspec": {
   "display_name": "Python 3",
   "language": "python",
   "name": "python3"
  },
  "language_info": {
   "codemirror_mode": {
    "name": "ipython",
    "version": 3
   },
   "file_extension": ".py",
   "mimetype": "text/x-python",
   "name": "python",
   "nbconvert_exporter": "python",
   "pygments_lexer": "ipython3",
   "version": "3.8.10 (default, Nov 14 2022, 12:59:47) \n[GCC 9.4.0]"
  },
  "toc": {
   "base_numbering": 1,
   "nav_menu": {},
   "number_sections": true,
   "sideBar": true,
   "skip_h1_title": false,
   "title_cell": "Table of Contents",
   "title_sidebar": "Contents",
   "toc_cell": false,
   "toc_position": {},
   "toc_section_display": true,
   "toc_window_display": false
  },
  "varInspector": {
   "cols": {
    "lenName": 16,
    "lenType": 16,
    "lenVar": 40
   },
   "kernels_config": {
    "python": {
     "delete_cmd_postfix": "",
     "delete_cmd_prefix": "del ",
     "library": "var_list.py",
     "varRefreshCmd": "print(var_dic_list())"
    },
    "r": {
     "delete_cmd_postfix": ") ",
     "delete_cmd_prefix": "rm(",
     "library": "var_list.r",
     "varRefreshCmd": "cat(var_dic_list()) "
    }
   },
   "types_to_exclude": [
    "module",
    "function",
    "builtin_function_or_method",
    "instance",
    "_Feature"
   ],
   "window_display": false
  },
  "vscode": {
   "interpreter": {
    "hash": "916dbcbb3f70747c44a77c7bcd40155683ae19c65e1c03b4aa3499c5328201f1"
   }
  }
 },
 "nbformat": 4,
 "nbformat_minor": 5
}
