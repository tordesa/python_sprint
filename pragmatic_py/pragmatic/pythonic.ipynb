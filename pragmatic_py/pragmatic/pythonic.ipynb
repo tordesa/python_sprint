{
 "cells": [
  {
   "cell_type": "code",
   "execution_count": 3,
   "metadata": {},
   "outputs": [
    {
     "data": {
      "text/plain": [
       "[1, 8, 27, 64, 125]"
      ]
     },
     "execution_count": 3,
     "metadata": {},
     "output_type": "execute_result"
    }
   ],
   "source": [
    "[x**3 for x in [1,2,3,4,5]]"
   ]
  },
  {
   "cell_type": "code",
   "execution_count": 4,
   "metadata": {},
   "outputs": [],
   "source": [
    "names = [\"Graham Chapman\",\"John Cleese\",\"Terry Gilliam\",\"Eric Idle\",\"Terry Jones\"]"
   ]
  },
  {
   "cell_type": "code",
   "execution_count": 5,
   "metadata": {},
   "outputs": [
    {
     "data": {
      "text/plain": [
       "['Terry Gilliam', 'Terry Jones']"
      ]
     },
     "execution_count": 5,
     "metadata": {},
     "output_type": "execute_result"
    }
   ],
   "source": [
    "[ x for x in names if x[0] == \"T\"]"
   ]
  },
  {
   "cell_type": "code",
   "execution_count": 6,
   "metadata": {},
   "outputs": [],
   "source": [
    "players = [\"Magnus Carlsen\",\"Fabiano Caruana\",\"Yifan Hou\",\"Wenjun Ju\"]\n",
    "opponents = [\"Magnus Carlsen\",\"Fabiano Caruana\",\"Yifan Hou\",\"Wenjun Ju\"]"
   ]
  },
  {
   "cell_type": "code",
   "execution_count": 13,
   "metadata": {},
   "outputs": [
    {
     "data": {
      "text/plain": [
       "['Magnus Carlsen vs Fabiano Caruana',\n",
       " 'Magnus Carlsen vs Yifan Hou',\n",
       " 'Magnus Carlsen vs Wenjun Ju',\n",
       " 'Fabiano Caruana vs Magnus Carlsen',\n",
       " 'Fabiano Caruana vs Yifan Hou',\n",
       " 'Fabiano Caruana vs Wenjun Ju',\n",
       " 'Yifan Hou vs Magnus Carlsen',\n",
       " 'Yifan Hou vs Fabiano Caruana',\n",
       " 'Yifan Hou vs Wenjun Ju',\n",
       " 'Wenjun Ju vs Magnus Carlsen',\n",
       " 'Wenjun Ju vs Fabiano Caruana',\n",
       " 'Wenjun Ju vs Yifan Hou']"
      ]
     },
     "execution_count": 13,
     "metadata": {},
     "output_type": "execute_result"
    }
   ],
   "source": [
    "[ f'{player} vs {opponent}'  for player in players for opponent in opponents if player != opponent ]"
   ]
  },
  {
   "cell_type": "code",
   "execution_count": 14,
   "metadata": {},
   "outputs": [
    {
     "name": "stdout",
     "output_type": "stream",
     "text": [
      "[4, 3, 2, 1, 5, 4, 3, 2, 6, 5, 4, 3, 7, 6, 5, 4]\n"
     ]
    }
   ],
   "source": [
    "print([a + b for a in [0,1,2,3] for b in [4,3,2,1]])"
   ]
  },
  {
   "cell_type": "code",
   "execution_count": 15,
   "metadata": {},
   "outputs": [
    {
     "data": {
      "text/plain": [
       "[{'Eric': 4, 'Graham': 6, 'Terry': 5, 'John': 4}]"
      ]
     },
     "execution_count": 15,
     "metadata": {},
     "output_type": "execute_result"
    }
   ],
   "source": [
    "[{k:len(k) for k in [\"Eric\", \"Graham\",\"Terry\", \"John\",\"Terry\"]}]"
   ]
  },
  {
   "cell_type": "code",
   "execution_count": 16,
   "metadata": {},
   "outputs": [],
   "source": [
    "names =[ \"Turner\", \"Malika\", \"Ima\",  \"Kory\", \"Mafalda\", \"Vincent\", \"Gideon\", \"German\", \"Sedrick\", \"Lyda\"]\n",
    "prices = [810.59,664.43,69.65,793.10,853.94,508.21,404.73,169.56,552.19,207.90]"
   ]
  },
  {
   "cell_type": "code",
   "execution_count": 17,
   "metadata": {},
   "outputs": [
    {
     "data": {
      "text/plain": [
       "10"
      ]
     },
     "execution_count": 17,
     "metadata": {},
     "output_type": "execute_result"
    }
   ],
   "source": [
    "len(names)"
   ]
  },
  {
   "cell_type": "code",
   "execution_count": 18,
   "metadata": {},
   "outputs": [
    {
     "data": {
      "text/plain": [
       "10"
      ]
     },
     "execution_count": 18,
     "metadata": {},
     "output_type": "execute_result"
    }
   ],
   "source": [
    "len(prices)"
   ]
  },
  {
   "cell_type": "code",
   "execution_count": 19,
   "metadata": {},
   "outputs": [
    {
     "data": {
      "text/plain": [
       "{'Turner': 207.9,\n",
       " 'Malika': 207.9,\n",
       " 'Ima': 207.9,\n",
       " 'Kory': 207.9,\n",
       " 'Mafalda': 207.9,\n",
       " 'Vincent': 207.9,\n",
       " 'Gideon': 207.9,\n",
       " 'German': 207.9,\n",
       " 'Sedrick': 207.9,\n",
       " 'Lyda': 207.9}"
      ]
     },
     "execution_count": 19,
     "metadata": {},
     "output_type": "execute_result"
    }
   ],
   "source": [
    "{ k:v for k in names for v in prices }"
   ]
  },
  {
   "cell_type": "code",
   "execution_count": 20,
   "metadata": {},
   "outputs": [],
   "source": [
    "john = {'first_name':'John','surname':'Cleese'}"
   ]
  },
  {
   "cell_type": "code",
   "execution_count": 22,
   "metadata": {},
   "outputs": [
    {
     "data": {
      "text/plain": [
       "\"middle name does't exist\""
      ]
     },
     "execution_count": 22,
     "metadata": {},
     "output_type": "execute_result"
    }
   ],
   "source": [
    "john.get('middle_name', 'middle name does\\'t exist')"
   ]
  },
  {
   "cell_type": "code",
   "execution_count": 23,
   "metadata": {},
   "outputs": [],
   "source": [
    "from collections import defaultdict"
   ]
  },
  {
   "cell_type": "code",
   "execution_count": 24,
   "metadata": {},
   "outputs": [],
   "source": [
    "safe_john = defaultdict(str, john)"
   ]
  },
  {
   "cell_type": "code",
   "execution_count": 25,
   "metadata": {},
   "outputs": [
    {
     "data": {
      "text/plain": [
       "''"
      ]
     },
     "execution_count": 25,
     "metadata": {},
     "output_type": "execute_result"
    }
   ],
   "source": [
    "safe_john['middle_name']"
   ]
  },
  {
   "cell_type": "code",
   "execution_count": 26,
   "metadata": {},
   "outputs": [],
   "source": [
    "courses = defaultdict(lambda: 'No!')\n",
    "courses['Java'] = 'This is Java'"
   ]
  },
  {
   "cell_type": "code",
   "execution_count": 27,
   "metadata": {},
   "outputs": [
    {
     "data": {
      "text/plain": [
       "'This is Java'"
      ]
     },
     "execution_count": 27,
     "metadata": {},
     "output_type": "execute_result"
    }
   ],
   "source": [
    "courses['Java']"
   ]
  },
  {
   "cell_type": "code",
   "execution_count": 28,
   "metadata": {},
   "outputs": [
    {
     "data": {
      "text/plain": [
       "'No!'"
      ]
     },
     "execution_count": 28,
     "metadata": {},
     "output_type": "execute_result"
    }
   ],
   "source": [
    "courses['python']"
   ]
  },
  {
   "cell_type": "code",
   "execution_count": 29,
   "metadata": {},
   "outputs": [],
   "source": [
    "class Interrogator:\n",
    "    def __init__(self, questions) -> None:\n",
    "        self.questions  = questions\n",
    "\n",
    "\n",
    "    def __iter__(self):\n",
    "        return self.questions.__iter__()"
   ]
  },
  {
   "cell_type": "code",
   "execution_count": 36,
   "metadata": {},
   "outputs": [],
   "source": [
    "questions = [\"What is your name?\",\n",
    "\"What is your quest?\",\n",
    "\"What is the average airspeed velocity of an unladen swallow?\"]"
   ]
  },
  {
   "cell_type": "code",
   "execution_count": 37,
   "metadata": {},
   "outputs": [],
   "source": [
    "awkward_person = Interrogator(questions)"
   ]
  },
  {
   "cell_type": "code",
   "execution_count": 38,
   "metadata": {},
   "outputs": [
    {
     "name": "stdout",
     "output_type": "stream",
     "text": [
      "Anthony\n",
      "Fortune\n",
      "1200s\n"
     ]
    }
   ],
   "source": [
    "for question in awkward_person:\n",
    "    print(input(question))"
   ]
  },
  {
   "cell_type": "code",
   "execution_count": null,
   "metadata": {},
   "outputs": [],
   "source": []
  }
 ],
 "metadata": {
  "kernelspec": {
   "display_name": "Python 3",
   "language": "python",
   "name": "python3"
  },
  "language_info": {
   "codemirror_mode": {
    "name": "ipython",
    "version": 3
   },
   "file_extension": ".py",
   "mimetype": "text/x-python",
   "name": "python",
   "nbconvert_exporter": "python",
   "pygments_lexer": "ipython3",
   "version": "3.8.10"
  },
  "orig_nbformat": 4,
  "vscode": {
   "interpreter": {
    "hash": "916dbcbb3f70747c44a77c7bcd40155683ae19c65e1c03b4aa3499c5328201f1"
   }
  }
 },
 "nbformat": 4,
 "nbformat_minor": 2
}
